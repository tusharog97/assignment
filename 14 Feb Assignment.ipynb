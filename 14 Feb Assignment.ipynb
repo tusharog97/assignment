{
 "cells": [
  {
   "cell_type": "code",
   "execution_count": null,
   "id": "1ac1f319-361a-4ea7-90c0-1bec38bf9d46",
   "metadata": {},
   "outputs": [],
   "source": [
    "'''Q1. What is multithreading in python? Why is it used? Name the module used to handle threads in python?\n",
    "\n",
    "Multithreading in Python refers to the process of executing multiple threads or parallel threads simultaneously. A thread is a lightweight sub-process that can run concurrently with other threads. Python provides a built-in module called threading to handle threads.\n",
    "\n",
    "Multithreading is used in Python to improve the performance of an application by allowing multiple threads to run simultaneously. It is useful for tasks that involve I/O-bound operations, such as reading or writing to files, networking, and database operations. By using threads, the application can perform these tasks in the background while the main thread continues to execute other tasks.\n",
    "\n",
    "The threading module provides a Thread class that can be used to create and manage threads. It also provides other classes and functions for synchronization and communication between threads."
   ]
  },
  {
   "cell_type": "code",
   "execution_count": null,
   "id": "c8dbac84-6194-43f9-a0c6-d48359b2e66b",
   "metadata": {},
   "outputs": [],
   "source": [
    "'''Q2- Why threading module used? rite the use of the following functions\n",
    "activeCount()\n",
    "currentThread()\n",
    "enumerate()\n",
    "\n",
    "activeCount(): This function returns the number of Thread objects that are active. A Thread object is considered active if it has been started and has not yet finished.\n",
    "\n",
    "currentThread(): This function returns a reference to the current Thread object, which represents the thread from which the function is called.\n",
    "\n",
    "enumerate(): This function returns a list of all Thread objects that are currently active. The list includes daemonic threads, dummy thread objects created by current_thread(), and threads started by threading module. It excludes terminated threads and threads that have not yet been started."
   ]
  },
  {
   "cell_type": "code",
   "execution_count": null,
   "id": "ca53faa7-e587-4aca-87f6-1ccbc94e31f9",
   "metadata": {},
   "outputs": [],
   "source": [
    "'''3. Explain the following functions\n",
    "run()\n",
    " start()\n",
    " join()\n",
    "isAlive()\n",
    "\n",
    "run(): It is a method of the Thread class in Python's threading module. It represents the code that will be executed in a separate thread when the start() method is called. It is typically overridden by a subclass to define the code that will be executed in a separate thread.\n",
    "\n",
    "start(): It is a method of the Thread class in Python's threading module. It starts the thread by calling the run() method of the Thread object. Once a thread has been started, it will run concurrently with the other threads in the program until it completes its task.\n",
    "\n",
    "join(): It is a method of the Thread class in Python's threading module. It waits for the thread to complete its task before continuing execution of the main program. It is typically used to ensure that all threads complete their work before the program exits.\n",
    "\n",
    "isAlive(): It is a method of the Thread class in Python's threading module. It returns a boolean value indicating whether the thread is currently executing or not. It returns True if the thread is still executing, and False otherwise."
   ]
  },
  {
   "cell_type": "code",
   "execution_count": 1,
   "id": "a79c8329-1e8c-46c0-b390-037f0dda78bc",
   "metadata": {},
   "outputs": [
    {
     "name": "stdout",
     "output_type": "stream",
     "text": [
      "1\n",
      "4\n",
      "9\n",
      "16\n",
      "25\n",
      "1\n",
      "8\n",
      "27\n",
      "64\n",
      "125\n",
      "Main thread completed\n"
     ]
    }
   ],
   "source": [
    "'''Q 4. rite a python program to create two threads. Thread one must print the list of squares and thread\n",
    "two must print the list of cubes?\n",
    "\n",
    "Here's a Python program to create two threads - one to print the list of squares and the other to print the list of cubes:'''\n",
    "\n",
    "import threading\n",
    "\n",
    "def print_squares(n):\n",
    "    for i in range(1, n+1):\n",
    "        print(i*i)\n",
    "\n",
    "def print_cubes(n):\n",
    "    for i in range(1, n+1):\n",
    "        print(i*i*i)\n",
    "\n",
    "if __name__ == '__main__':\n",
    "    n = 5\n",
    "\n",
    "    # Create thread to print squares\n",
    "    t1 = threading.Thread(target=print_squares, args=(n,))\n",
    "    t1.start()\n",
    "\n",
    "    # Create thread to print cubes\n",
    "    t2 = threading.Thread(target=print_cubes, args=(n,))\n",
    "    t2.start()\n",
    "\n",
    "    # Wait for both threads to complete\n",
    "    t1.join()\n",
    "    t2.join()\n",
    "\n",
    "    print(\"Main thread completed\")\n",
    "\n",
    "    "
   ]
  },
  {
   "cell_type": "code",
   "execution_count": null,
   "id": "f824cd6c-0a35-4477-9f03-49fdac7317c9",
   "metadata": {},
   "outputs": [],
   "source": [
    "'''Q5. State advantages and disadvantages of multithreading\n",
    "\n",
    "Advantages of multithreading:\n",
    "\n",
    "1.-Increased performance: Multithreading allows for multiple threads to execute simultaneously, thereby increasing the overall performance of the program.\n",
    "\n",
    "2.-Responsiveness: Multithreading allows for a program to be more responsive as the main thread can continue to execute while other threads are working in the background.\n",
    "\n",
    "3.-Resource sharing: Multiple threads can share resources such as memory and CPU time, which can result in better utilization of resources.\n",
    "\n",
    "4.-Modular programming: Multithreading allows for a program to be broken down into smaller modules, each of which can be executed by a separate thread, making the code more manageable and easier to debug.\n",
    "\n",
    "Disadvantages of multithreading:\n",
    "\n",
    "1.-Complexity: Multithreaded programming can be complex and difficult to implement, especially when dealing with shared resources.\n",
    "\n",
    "2.-Synchronization issues: When multiple threads are accessing shared resources, it can result in synchronization issues such as race conditions and deadlocks.\n",
    "\n",
    "3.-Debugging: Debugging multithreaded programs can be difficult and time-consuming, as bugs may only occur sporadically or under specific conditions.\n",
    "\n",
    "4.-Overhead: Creating and managing threads can have overhead costs, which may reduce the overall performance of the program if not managed properly.'''"
   ]
  },
  {
   "cell_type": "code",
   "execution_count": null,
   "id": "f95a40f5-26ab-4f4d-99d3-074e1aa8dc53",
   "metadata": {},
   "outputs": [],
   "source": [
    "'''6. Explain deadlocks and race conditions.\n",
    "\n",
    "Deadlock and race condition are two types of problems that can occur in a multithreaded environment.\n",
    "\n",
    "Deadlock occurs when two or more threads are waiting on each other to release a resource, but none of them can proceed as they are waiting for the other thread to release the resource. As a result, the threads become blocked and cannot proceed, causing the program to freeze or become unresponsive.\n",
    "\n",
    "Race condition occurs when two or more threads access a shared resource concurrently, and the final outcome of the program depends on the order in which the threads execute. If the threads are not properly synchronized, the program may produce unexpected results or even crash.\n",
    "\n",
    "The main difference between the two is that deadlock involves threads waiting for each other to release resources, while race condition involves threads accessing the same resource concurrently without proper synchronization.\n",
    "\n",
    "Deadlocks and race conditions can be avoided by using proper synchronization techniques such as locks, semaphores, and barriers. These techniques help to ensure that only one thread can access a resource at a time, or that threads are properly synchronized when accessing shared resources."
   ]
  }
 ],
 "metadata": {
  "kernelspec": {
   "display_name": "Python 3 (ipykernel)",
   "language": "python",
   "name": "python3"
  },
  "language_info": {
   "codemirror_mode": {
    "name": "ipython",
    "version": 3
   },
   "file_extension": ".py",
   "mimetype": "text/x-python",
   "name": "python",
   "nbconvert_exporter": "python",
   "pygments_lexer": "ipython3",
   "version": "3.10.8"
  }
 },
 "nbformat": 4,
 "nbformat_minor": 5
}
