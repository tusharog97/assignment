{
 "cells": [
  {
   "cell_type": "code",
   "execution_count": null,
   "id": "3806cf76-c89b-40f0-98b6-56c377a64c30",
   "metadata": {},
   "outputs": [],
   "source": [
    "#Q1. Q1. Explain GET and POST methods.\n",
    "\n",
    "'''GET and POST are two of the most commonly used HTTP (Hypertext Transfer Protocol) methods, each serving a distinct purpose in web communication:\n",
    "\n",
    "GET Method:\n",
    "Purpose: GET is used to request data from a specified resource. It is primarily used for retrieving information from the server without causing any side effects on the server's data.\n",
    "Data Transmission: Data is appended to the URL in the form of query parameters. This means that the data is visible in the URL, which makes it less secure for sensitive information.\n",
    "Caching: GET requests can be cached by browsers, which can improve performance for subsequent identical requests.\n",
    "Idempotent: GET requests are considered idempotent, meaning that making the same request multiple times should have the same effect as making it once (i.e., it should not modify the server's state).'''\n"
   ]
  },
  {
   "cell_type": "code",
   "execution_count": 2,
   "id": "264e7ee1-98ef-45b1-a762-bd81c82d1b2b",
   "metadata": {},
   "outputs": [
    {
     "data": {
      "text/plain": [
       "'Example of a GET request:\\n    GET /api/user?id=123'"
      ]
     },
     "execution_count": 2,
     "metadata": {},
     "output_type": "execute_result"
    }
   ],
   "source": [
    "'''Example of a GET request:\n",
    "    GET /api/user?id=123'''"
   ]
  },
  {
   "cell_type": "code",
   "execution_count": null,
   "id": "208bc60e-cd5a-40e5-9b64-cb3bbed1936b",
   "metadata": {},
   "outputs": [],
   "source": [
    "'''POST Method:\n",
    "Purpose: POST is used to submit data to be processed to a specified resource. It is often used for actions that change the server's state, such as \n",
    "submitting a form or creating a new resource.\n",
    "Data Transmission: Data is sent in the request body, not visible in the URL, which makes it suitable for sending sensitive information like passwords.\n",
    "Caching: POST requests are typically not cached because they can have side effects, and repeating the same request may not be safe.\n",
    "Not Idempotent: POST requests are not considered idempotent because making the same request multiple times can lead to different outcomes, \n",
    "especially if it involves creating new resources on the server.\n",
    "Example of a POST request:\n",
    "\n",
    "bash\n",
    "Copy code\n",
    "POST /api/user\n",
    "Content-Type: application/json\n",
    "\n",
    "{\n",
    "   \"username\": \"john_doe\",\n",
    "   \"password\": \"secret123\"\n",
    "}\n",
    "In summary, GET is used for retrieving data, is visible in the URL, and is idempotent, while POST is used for submitting data,\n",
    "is sent in the request body, and is not idempotent. \n",
    "The choice between them depends on the specific use case and the desired behavior of the web application.'''"
   ]
  },
  {
   "cell_type": "code",
   "execution_count": null,
   "id": "5a847b7f-1385-4081-9641-d92b8937b99d",
   "metadata": {},
   "outputs": [],
   "source": [
    "#Q2. Why is request used in Flask?"
   ]
  },
  {
   "cell_type": "code",
   "execution_count": 4,
   "id": "efa7ca9e-9d85-4c47-84e8-112f543963f6",
   "metadata": {},
   "outputs": [
    {
     "data": {
      "text/plain": [
       "'In this example, request.form is used to access the form data sent by the client when they submit a POST request to the /submit route.\\n\\nOverall, the request object in Flask is a fundamental tool for handling incoming data and enabling interaction between the client and the server\\nin web applications.'"
      ]
     },
     "execution_count": 4,
     "metadata": {},
     "output_type": "execute_result"
    }
   ],
   "source": [
    "'''In Flask, a request object is used to access data that is sent from the client (typically a web browser) to the server as part of an HTTP request.\n",
    "It allows the Flask application to retrieve information sent by the client, such as form data, query parameters, headers, cookies, and more. \n",
    "The request object is crucial for processing incoming data and making decisions based on that data within your Flask application.\n",
    "\n",
    "Here are some common use cases for the request object in Flask:\n",
    "\n",
    "Accessing Form Data: When a user submits a form on a web page, the form data (e.g., user input from text fields, checkboxes, etc.) is included\n",
    "in the request. Flask's request object allows you to access and process this form data.\n",
    "\n",
    "Query Parameters: When users include query parameters in the URL (e.g., example.com/search?query=Flask), the request object enables you to\n",
    "extract and use these parameters in your application logic.\n",
    "\n",
    "Accessing Headers: You can access the HTTP headers sent by the client using the request object. This can be useful for handling authentication tokens,\n",
    "content negotiation, and other header-related tasks.\n",
    "\n",
    "Cookies: If your application relies on cookies for session management or other purposes, the request object provides access to the cookies sent by \n",
    "the client.\n",
    "\n",
    "File Uploads: When users upload files through a form, the request object allows you to access and process these uploaded files.\n",
    "\n",
    "Here's a simple example of how you might use the request object in Flask to access form data:'''\n",
    "\n",
    "from flask import Flask, request\n",
    "\n",
    "app = Flask(__name__)\n",
    "\n",
    "@app.route('/submit', methods=['POST'])\n",
    "def submit_form():\n",
    "    # Access form data from the request object\n",
    "    username = request.form.get('username')\n",
    "    password = request.form.get('password')\n",
    "    \n",
    "    # Process the form data (e.g., validate, save to a database, etc.)\n",
    "    \n",
    "    return f'You submitted: Username - {username}, Password - {password}'\n",
    "\n",
    "if __name__ == '__main__':\n",
    "    app.run()\n",
    "\n",
    "\n",
    "'''In this example, request.form is used to access the form data sent by the client when they submit a POST request to the /submit route.\n",
    "\n",
    "Overall, the request object in Flask is a fundamental tool for handling incoming data and enabling interaction between the client and the server\n",
    "in web applications.'''"
   ]
  },
  {
   "cell_type": "code",
   "execution_count": null,
   "id": "eba8c6b8-a595-450a-be8b-105d7a627324",
   "metadata": {},
   "outputs": [],
   "source": [
    "#Q3. Why is redirect() used in Flask?"
   ]
  },
  {
   "cell_type": "code",
   "execution_count": null,
   "id": "0dcee13f-fdba-460d-a084-eb05f6526a23",
   "metadata": {},
   "outputs": [],
   "source": [
    "'''In Flask, the redirect() function is used to perform an HTTP redirect. It instructs the client's web browser to navigate to a different URL, \n",
    "typically as a response to a particular action or condition within your Flask application. Redirects are essential for various reasons in\n",
    "web development:\n",
    "\n",
    "Page Navigation: Redirects are commonly used to guide users from one web page to another. For example, after successfully submitting a form,\n",
    "you might want to redirect the user to a \"Thank You\" page or a dashboard.\n",
    "\n",
    "URL Consistency: Redirects help maintain consistent and user-friendly URLs. They can be used to ensure that users always access a specific URL,\n",
    "even if they try to access variations or outdated URLs.\n",
    "\n",
    "Authentication and Authorization: After a user logs in or logs out, you can use redirects to control their access to different parts of your \n",
    "application, such as sending authenticated users to their profile page or back to the login page if authentication fails.\n",
    "\n",
    "Handling Errors: Redirects can be used to handle errors gracefully. For instance, if an error occurs during a request, you can redirect the \n",
    "user to an error page with a user-friendly message.\n",
    "\n",
    "Here's a basic example of how you might use redirect() in Flask:'''\n",
    "\n",
    "from flask import Flask, redirect, url_for\n",
    "\n",
    "app = Flask(__name__)\n",
    "\n",
    "@app.route('/')\n",
    "def home():\n",
    "    # Redirect to the 'about' page\n",
    "    return redirect(url_for('about'))\n",
    "\n",
    "@app.route('/about')\n",
    "def about():\n",
    "    return 'This is the about page.'\n",
    "\n",
    "if __name__ == '__main__':\n",
    "    app.run()\n",
    "\n",
    "'''In this example, when a user accesses the root URL ('/'), they are redirected to the '/about' URL using redirect() and url_for(). \n",
    "This is a simple way to manage URL navigation within your Flask application.\n",
    "\n",
    "Overall, redirect() is a valuable tool in Flask for controlling the flow of your application, improving user experience, and ensuring \n",
    "that users are directed to the appropriate pages based on their actions or requests.'''"
   ]
  },
  {
   "cell_type": "code",
   "execution_count": null,
   "id": "14aec333-f31e-4f88-833a-2b0dfaa6deeb",
   "metadata": {},
   "outputs": [],
   "source": [
    "#Q4. What are templates in Flask? Why is the render_template() function used?"
   ]
  },
  {
   "cell_type": "code",
   "execution_count": null,
   "id": "232f7efd-4af9-45fa-9715-7620c5011666",
   "metadata": {},
   "outputs": [],
   "source": [
    "'''In Flask, templates are used to separate the presentation (HTML content) from the application logic in your web application. \n",
    "Templates allow you to create dynamic web pages by embedding placeholders (variables) in HTML documents. These placeholders can be filled with data\n",
    "from your Flask application, making it easy to generate HTML content dynamically based on user input, data from a database, or other factors.\n",
    "\n",
    "The primary reasons for using templates in Flask are:\n",
    "\n",
    "Separation of Concerns: Templates help maintain a clear separation between the application logic (Python code) and the presentation (HTML). \n",
    "This separation makes it easier to manage and maintain your codebase.\n",
    "\n",
    "Reusability: Templates can be reused across different routes and views in your application, reducing code duplication and ensuring a consistent \n",
    "look and feel.\n",
    "\n",
    "Dynamic Content: Templates enable the insertion of dynamic data into HTML, such as user-specific information, lists of items, or database records.\n",
    "\n",
    "To render a template in Flask, you use the render_template() function. Here's how it works:\n",
    "\n",
    "You define an HTML template file with placeholders for dynamic content. These placeholders are typically enclosed in double curly braces and\n",
    "can include variables, control structures (e.g., loops and conditionals), and more. An example template might look like this:'''\n",
    "\n",
    "<!DOCTYPE html>\n",
    "<html>\n",
    "<head>\n",
    "    <title>{{ page_title }}</title>\n",
    "</head>\n",
    "<body>\n",
    "    <h1>Welcome, {{ username }}!</h1>\n",
    "    <p>{{ content }}</p>\n",
    "</body>\n",
    "</html>\n",
    "\n",
    "\n",
    "# In your Flask route function, you use render_template() to render this template and pass data to it. For example:\n",
    "\n",
    "from flask import Flask, render_template\n",
    "\n",
    "app = Flask(__name__)\n",
    "\n",
    "@app.route('/user/<username>')\n",
    "def user_profile(username):\n",
    "    page_title = 'User Profile'\n",
    "    content = f'This is the profile for {username}.'\n",
    "    \n",
    "    return render_template('profile.html', page_title=page_title, username=username, content=content)\n",
    "\n",
    "if __name__ == '__main__':\n",
    "    app.run()\n",
    "\n",
    "'''In this example, render_template() is used to render the 'profile.html' template while passing in data (page_title, username, and content) \n",
    "that will be dynamically inserted into the template.\n",
    "\n",
    "The render_template() function combines the template with the provided data, generating an HTML page as a response, \n",
    "which is sent to the client's browser.\n",
    "Templates, along with the render_template() function, make it much easier to create dynamic and data-driven web pages in Flask, \n",
    "enhancing the separation of concerns and overall maintainability of your web application.'''"
   ]
  },
  {
   "cell_type": "code",
   "execution_count": 5,
   "id": "c53ca864-a77b-43fd-bc47-9f665c97072a",
   "metadata": {},
   "outputs": [
    {
     "name": "stdout",
     "output_type": "stream",
     "text": [
      "Collecting flask\n",
      "  Downloading flask-3.0.0-py3-none-any.whl (99 kB)\n",
      "\u001b[2K     \u001b[90m━━━━━━━━━━━━━━━━━━━━━━━━━━━━━━━━━━━━━━━━\u001b[0m \u001b[32m99.7/99.7 kB\u001b[0m \u001b[31m3.5 MB/s\u001b[0m eta \u001b[36m0:00:00\u001b[0m\n",
      "\u001b[?25hRequirement already satisfied: Jinja2>=3.1.2 in /opt/conda/lib/python3.10/site-packages (from flask) (3.1.2)\n",
      "Collecting Werkzeug>=3.0.0\n",
      "  Downloading werkzeug-3.0.0-py3-none-any.whl (226 kB)\n",
      "\u001b[2K     \u001b[90m━━━━━━━━━━━━━━━━━━━━━━━━━━━━━━━━━━━━━━\u001b[0m \u001b[32m226.6/226.6 kB\u001b[0m \u001b[31m17.5 MB/s\u001b[0m eta \u001b[36m0:00:00\u001b[0m\n",
      "\u001b[?25hCollecting blinker>=1.6.2\n",
      "  Downloading blinker-1.6.3-py3-none-any.whl (13 kB)\n",
      "Requirement already satisfied: click>=8.1.3 in /opt/conda/lib/python3.10/site-packages (from flask) (8.1.3)\n",
      "Collecting itsdangerous>=2.1.2\n",
      "  Downloading itsdangerous-2.1.2-py3-none-any.whl (15 kB)\n",
      "Requirement already satisfied: MarkupSafe>=2.0 in /opt/conda/lib/python3.10/site-packages (from Jinja2>=3.1.2->flask) (2.1.1)\n",
      "Installing collected packages: Werkzeug, itsdangerous, blinker, flask\n",
      "  Attempting uninstall: blinker\n",
      "    Found existing installation: blinker 1.5\n",
      "    Uninstalling blinker-1.5:\n",
      "      Successfully uninstalled blinker-1.5\n",
      "Successfully installed Werkzeug-3.0.0 blinker-1.6.3 flask-3.0.0 itsdangerous-2.1.2\n",
      "Note: you may need to restart the kernel to use updated packages.\n"
     ]
    }
   ],
   "source": [
    "pip install flask"
   ]
  },
  {
   "cell_type": "code",
   "execution_count": 6,
   "id": "89eeeb98-e002-4c29-8e30-6a77f379e00a",
   "metadata": {},
   "outputs": [
    {
     "name": "stdout",
     "output_type": "stream",
     "text": [
      " * Serving Flask app '__main__'\n",
      " * Debug mode: on\n"
     ]
    },
    {
     "name": "stderr",
     "output_type": "stream",
     "text": [
      "WARNING: This is a development server. Do not use it in a production deployment. Use a production WSGI server instead.\n",
      " * Running on http://127.0.0.1:5000\n",
      "Press CTRL+C to quit\n",
      " * Restarting with stat\n",
      "Traceback (most recent call last):\n",
      "  File \"/opt/conda/lib/python3.10/runpy.py\", line 196, in _run_module_as_main\n",
      "    return _run_code(code, main_globals, None,\n",
      "  File \"/opt/conda/lib/python3.10/runpy.py\", line 86, in _run_code\n",
      "    exec(code, run_globals)\n",
      "  File \"/opt/conda/lib/python3.10/site-packages/ipykernel_launcher.py\", line 17, in <module>\n",
      "    app.launch_new_instance()\n",
      "  File \"/opt/conda/lib/python3.10/site-packages/traitlets/config/application.py\", line 991, in launch_instance\n",
      "    app.initialize(argv)\n",
      "  File \"/opt/conda/lib/python3.10/site-packages/traitlets/config/application.py\", line 113, in inner\n",
      "    return method(app, *args, **kwargs)\n",
      "  File \"/opt/conda/lib/python3.10/site-packages/ipykernel/kernelapp.py\", line 665, in initialize\n",
      "    self.init_sockets()\n",
      "  File \"/opt/conda/lib/python3.10/site-packages/ipykernel/kernelapp.py\", line 309, in init_sockets\n",
      "    self.shell_port = self._bind_socket(self.shell_socket, self.shell_port)\n",
      "  File \"/opt/conda/lib/python3.10/site-packages/ipykernel/kernelapp.py\", line 246, in _bind_socket\n",
      "    return self._try_bind_socket(s, port)\n",
      "  File \"/opt/conda/lib/python3.10/site-packages/ipykernel/kernelapp.py\", line 222, in _try_bind_socket\n",
      "    s.bind(\"tcp://%s:%i\" % (self.ip, port))\n",
      "  File \"/opt/conda/lib/python3.10/site-packages/zmq/sugar/socket.py\", line 232, in bind\n",
      "    super().bind(addr)\n",
      "  File \"zmq/backend/cython/socket.pyx\", line 568, in zmq.backend.cython.socket.Socket.bind\n",
      "  File \"zmq/backend/cython/checkrc.pxd\", line 28, in zmq.backend.cython.checkrc._check_rc\n",
      "zmq.error.ZMQError: Address already in use\n"
     ]
    },
    {
     "ename": "SystemExit",
     "evalue": "1",
     "output_type": "error",
     "traceback": [
      "An exception has occurred, use %tb to see the full traceback.\n",
      "\u001b[0;31mSystemExit\u001b[0m\u001b[0;31m:\u001b[0m 1\n"
     ]
    },
    {
     "name": "stderr",
     "output_type": "stream",
     "text": [
      "/opt/conda/lib/python3.10/site-packages/IPython/core/interactiveshell.py:3441: UserWarning: To exit: use 'exit', 'quit', or Ctrl-D.\n",
      "  warn(\"To exit: use 'exit', 'quit', or Ctrl-D.\", stacklevel=1)\n"
     ]
    }
   ],
   "source": [
    "from flask import Flask, jsonify\n",
    "\n",
    "app = Flask(__name__)\n",
    "\n",
    "# Define a simple JSON response\n",
    "data = {\n",
    "    \"message\": \"Hello, this is a simple API!\"\n",
    "}\n",
    "\n",
    "@app.route('/api', methods=['GET'])\n",
    "def get_api():\n",
    "    return jsonify(data)\n",
    "\n",
    "if __name__ == '__main__':\n",
    "    app.run(debug=True)\n"
   ]
  },
  {
   "cell_type": "code",
   "execution_count": null,
   "id": "8b1c1028-2b39-4a29-87e2-b8a91bf510ef",
   "metadata": {},
   "outputs": [],
   "source": []
  }
 ],
 "metadata": {
  "kernelspec": {
   "display_name": "Python 3 (ipykernel)",
   "language": "python",
   "name": "python3"
  },
  "language_info": {
   "codemirror_mode": {
    "name": "ipython",
    "version": 3
   },
   "file_extension": ".py",
   "mimetype": "text/x-python",
   "name": "python",
   "nbconvert_exporter": "python",
   "pygments_lexer": "ipython3",
   "version": "3.10.8"
  }
 },
 "nbformat": 4,
 "nbformat_minor": 5
}
