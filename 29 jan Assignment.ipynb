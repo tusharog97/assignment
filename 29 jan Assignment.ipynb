{
 "cells": [
  {
   "cell_type": "code",
   "execution_count": null,
   "id": "5630ac7f-7bbe-4f28-8778-26aa1f16035f",
   "metadata": {},
   "outputs": [],
   "source": [
    "1. Who developed Python Programming Language?\n",
    "    Guido van Rossum\n"
   ]
  },
  {
   "cell_type": "code",
   "execution_count": null,
   "id": "ffc7da75-0cb0-4c1a-a30d-d75f46bc51e3",
   "metadata": {},
   "outputs": [],
   "source": [
    "2. Which type of Programming does Python support?\n",
    "\n",
    "    Python supports multiple programming paradigms, including:\n",
    "    Object-Oriented Programming (OOP)\n",
    "    Functional Programming\n",
    "    Procedural Programming\n",
    "    Imperative Programming."
   ]
  },
  {
   "cell_type": "code",
   "execution_count": null,
   "id": "49ea9c37-7515-433a-a51f-d6c38b8ddd9e",
   "metadata": {},
   "outputs": [],
   "source": [
    "3.Is Python case sensitive when dealing with identifiers?\n",
    "    Yes, Python is case sensitive when dealing with identifiers (variable names, function names, class names, etc.). \n",
    "    For example, a variable named \"string\" is different from a variable named \"String\"."
   ]
  },
  {
   "cell_type": "code",
   "execution_count": null,
   "id": "4fcb6a16-8af5-41e6-9e14-422b0faccdd8",
   "metadata": {},
   "outputs": [],
   "source": [
    "4. What is the correct extension of the Python file?\n",
    "    The correct extension for a Python file is \".py\". Python source code files typically use this extension."
   ]
  },
  {
   "cell_type": "code",
   "execution_count": null,
   "id": "11b30dd6-dcb7-4b40-a406-d60d01efbf8a",
   "metadata": {},
   "outputs": [],
   "source": [
    "5.Is Python code compiled or interpreted?\n",
    "    Python code is interpreted, not compiled. \n",
    "    This means that the source code is executed line by line by the Python interpreter,\n",
    "    rather than being compiled into machine code before being executed."
   ]
  },
  {
   "cell_type": "code",
   "execution_count": null,
   "id": "4583cccb-bf45-4731-a23d-4c4a46538b06",
   "metadata": {},
   "outputs": [],
   "source": [
    "6. Name a few blocks of code used to define in Python language?\n",
    "    In Python, the following are blocks of code used to define a block of code:\n",
    "\n",
    "    i. Functions\n",
    "    ii. Classes\n",
    "    iii. Conditional statements (if-elif-else)\n",
    "    iv. Loops (for, while)\n",
    "    v. Try-except blocks\n",
    "    With blocks.\n",
    "    \n",
    "    If I talk about Functions,\n",
    "    Functions are blocks of reusable code that can be called with specific arguments.\n",
    "    Functions allow you to encapsulate logic and write clean, reusable code. Functions are defined using the def keyword,\n",
    "    followed by the function name, and a list of arguments within parentheses. \n",
    "    The code inside the function is indented and runs when the function is called. Here is an example:\n",
    "        def greet(name):\n",
    "        print(\"Hello, \" + name)\n",
    "\n",
    "        greet(\"Tushar\")  # Output: Hello, Tushar\n"
   ]
  },
  {
   "cell_type": "code",
   "execution_count": null,
   "id": "bb9f384f-ebff-41b7-ba8c-e89702758a7a",
   "metadata": {},
   "outputs": [],
   "source": [
    "7. State a character used to give single-line comments in Python?\n",
    "    In Python, the hash symbol (#) is used to give single-line comments.\n",
    "    Anything written after the hash symbol on a line is ignored by the interpreter and is used to provide information to the reader of the code. \n",
    "        For example:\n",
    "        # This is a single-line comment\n",
    "        print(\"Hello World\")"
   ]
  },
  {
   "cell_type": "code",
   "execution_count": null,
   "id": "4ce89f6b-20a9-43bc-b34e-c33ea90baea9",
   "metadata": {},
   "outputs": [],
   "source": [
    "8. Mention functions which can help us to find the version of python that we are currently working on?\n",
    "    The function sys.version can help us to find the version of python that we are currently working on."
   ]
  },
  {
   "cell_type": "code",
   "execution_count": null,
   "id": "db5fc96c-35da-485a-8ec4-aa2f78ff0b6b",
   "metadata": {},
   "outputs": [],
   "source": [
    "9. Python supports the creation of anonymous functions at runtime, using a construct called\n",
    "    Yes, that's correct! In Python, we can create anonymous functions, It is also known as \"lambda functions\", \n",
    "    using the lambda keyword. A lambda function is a small, one-line function that doesn't have a name.\n",
    "    They are useful when you need to pass a simple function as an argument to another function. \n",
    "    Here's an example:\n",
    "    square = lambda x: x*x\n",
    "    print(square(5))    "
   ]
  },
  {
   "cell_type": "code",
   "execution_count": null,
   "id": "502cce68-b7c3-4b58-b29f-20806e2f7399",
   "metadata": {},
   "outputs": [],
   "source": [
    "10. What does pip stand for python?\n",
    "    pip stands for \"Pip Installs Packages\". It is a package management system used to install and manage software packages written in Python."
   ]
  },
  {
   "cell_type": "code",
   "execution_count": null,
   "id": "e78f42ac-b85a-4389-ab48-76ed8139964a",
   "metadata": {},
   "outputs": [],
   "source": [
    "11. Mention a few built- in functions in python?\n",
    "    Some built-in functions in Python are:\n",
    "\n",
    "    1. print()\n",
    "    2. len()\n",
    "    3. int()\n",
    "    4. float()\n",
    "    5. str()\n",
    "    6. type()\n",
    "    7. range()\n",
    "    8. sum()\n",
    "    9. max()\n",
    "    10. min()\n",
    "    11. abs()\n",
    "    12. round()\n",
    "    13. sorted()\n",
    "    14. reversed()\n",
    "    15. enumerate()\n",
    "    These are just a few examples, there are many more built-in functions in Python.\n",
    "    "
   ]
  },
  {
   "cell_type": "code",
   "execution_count": null,
   "id": "7cfb62de-db82-4f6e-a953-8d95e83802d7",
   "metadata": {},
   "outputs": [],
   "source": [
    "12. What is the maximum possible length of an identifier in Python?\n",
    "    In Python, there is no defined maximum length for an identifier, but there is a maximum limit on the size of an object.\n",
    "    The maximum size of an object is determined by the amount of memory your computer has, so the limit is system-dependent.\n",
    "    Practically, it is recommended to keep the identifier name meaningful and of a reasonable length."
   ]
  },
  {
   "cell_type": "code",
   "execution_count": null,
   "id": "b558e5de-5ab3-42e7-afc6-643ef9d2dde3",
   "metadata": {},
   "outputs": [],
   "source": [
    "13. What are the benefits of using Python?\n",
    "    \n",
    "    There are several benefits of using Python, some of the most notable ones are:\n",
    "\n",
    "    1.Easy to Learn: Python has an intuitive and easy-to-learn syntax that makes it ideal for beginners.\n",
    "\n",
    "    2.Versatile: Python is a multi-paradigm language, meaning it supports object-oriented, functional, and procedural programming.\n",
    "\n",
    "    3. Large Community: Python has a large and growing community of users, making it easier to find solutions to problems and get support.\n",
    "\n",
    "    4. Plenty of Libraries: Python has a vast collection of libraries, modules, and frameworks that makes it easy to perform complex tasks.\n",
    "\n",
    "    5.Cross-Platform: Python can run on various platforms including Windows, Linux, and MacOS, making it a portable language."
   ]
  },
  {
   "cell_type": "code",
   "execution_count": null,
   "id": "1ba14b81-5df1-45a5-82ed-8a5a898ac9ff",
   "metadata": {},
   "outputs": [],
   "source": [
    "14. How is memory managed in Python?\n",
    "    In Python, memory management is handled automatically by the Python memory manager, which is part of the Python interpreter. \n",
    "    The memory manager is responsible for allocating and freeing up memory for Python objects, \n",
    "    as well as performing garbage collection to reclaim memory occupied by objects that are no longer in use.\n",
    "    The memory manager uses a system of reference counting and object tracking to keep track of objects in memory and free up memory as needed.\n",
    "    Additionally, Python provides tools and libraries that help with memory management and optimization, such as the gc (garbage collector) module.    "
   ]
  },
  {
   "cell_type": "code",
   "execution_count": null,
   "id": "ef8a3026-480c-413c-966e-48c21013861e",
   "metadata": {},
   "outputs": [],
   "source": [
    "15. How to install Python on Windows and set path variables?\n",
    "    Download the Python installation file from the official Python website (https://www.python.org/downloads/).\n",
    "\n",
    "        1. Run the installation file and follow the on-screen instructions to install Python on your Windows computer.\n",
    "\n",
    "        2. After the installation is complete, go to the Start menu and search for 'Environment Variables.' \n",
    "        Click on the 'Edit the system environment variables' option.\n",
    "\n",
    "        3. In the System Properties window, click on the 'Environment Variables' button.\n",
    "\n",
    "        4. In the Environment Variables window, under 'System Variables', scroll down and find the 'Path' variable.\n",
    "\n",
    "        5. Click on the 'Path' variable and then click the 'Edit' button.\n",
    "\n",
    "        6. In the Edit Environment Variable window, click the 'New' button and add the path to the Python installation directory. \n",
    "            This path should be in the following format: C:\\PythonXX\\Scripts (XX represents the Python version number).\n",
    "\n",
    "        7. Click OK to close all windows and save the changes.\n",
    "\n",
    "        8. Open a command prompt and type 'python' to check if Python is installed and the path is set correctly.\n",
    "\n",
    "        9. After following these steps, Python should be installed on your Windows computer and the path variables should be set correctly."
   ]
  },
  {
   "cell_type": "code",
   "execution_count": null,
   "id": "138e4cad-18c0-4e61-972d-6a6ee25a5368",
   "metadata": {},
   "outputs": [],
   "source": [
    "16. Is identifiers required in python?\n",
    "    Yes, identifiers are required in Python to name variables, functions, classes, and other objects.\n",
    "    They help to make the code readable and maintainable."
   ]
  }
 ],
 "metadata": {
  "kernelspec": {
   "display_name": "Python 3 (ipykernel)",
   "language": "python",
   "name": "python3"
  },
  "language_info": {
   "codemirror_mode": {
    "name": "ipython",
    "version": 3
   },
   "file_extension": ".py",
   "mimetype": "text/x-python",
   "name": "python",
   "nbconvert_exporter": "python",
   "pygments_lexer": "ipython3",
   "version": "3.10.8"
  }
 },
 "nbformat": 4,
 "nbformat_minor": 5
}
