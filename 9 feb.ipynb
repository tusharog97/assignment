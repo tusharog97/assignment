{
 "cells": [
  {
   "cell_type": "code",
   "execution_count": 3,
   "id": "32282e32-b486-4884-a4a0-f9150bdc31d5",
   "metadata": {},
   "outputs": [],
   "source": [
    "'''Q1, Create a vehicle class with an init method having instance variables as name_of_vehicle, max_speed\n",
    "and average_of_vehicle.'''\n",
    "\n",
    "class Vehicle:\n",
    "    def __init__(self, name_of_vehicle, max_speed, average_of_vehicle):\n",
    "        self.name_of_vehicle = name_of_vehicle\n",
    "        self.max_speed = max_speed\n",
    "        self.average_of_vehicle = average_of_vehicle\n",
    "        \n",
    "        '''The __init__() method takes three arguments - name_of_vehicle, max_speed, and average_of_vehicle. These arguments are used to initialize the instance variables of the class.\n",
    "\n",
    "For example, you can create an instance of the Vehicle class as follows:'''\n",
    "car = Vehicle('Honda Civic', 220, 30)\n"
   ]
  },
  {
   "cell_type": "code",
   "execution_count": null,
   "id": "38210a4b-652a-40e1-bc60-e7ff472b8ef0",
   "metadata": {},
   "outputs": [],
   "source": [
    "'''Q2. Create a child class car from the vehicle class created in Que 1, which will inherit the vehicle class.\n",
    "Create a method named seating_capacity which takes capacity as an argument and returns the name of\n",
    "the vehicle and its seating capacity.\n",
    "\n",
    "Here's the code to create a child class Car from the Vehicle class and a method seating_capacity that takes capacity as an argument and returns\n",
    "the name of the vehicle and its seating capacity:'''\n",
    "\n",
    "class Car(Vehicle):\n",
    "    def seating_capacity(self, capacity):\n",
    "        return f\"{self.name_of_vehicle} has a seating capacity of {capacity} passengers.\"\n"
   ]
  },
  {
   "cell_type": "code",
   "execution_count": 4,
   "id": "63170618-8bd7-4b65-a0d0-cfccfb72c664",
   "metadata": {},
   "outputs": [
    {
     "name": "stdout",
     "output_type": "stream",
     "text": [
      "This is method A from class A\n",
      "This is method B from class B\n",
      "This is method C from class C\n"
     ]
    }
   ],
   "source": [
    "'''Q3. What is multiple inheritance? Write a python code to demonstrate multiple inheritance.\n",
    "\n",
    "Multiple inheritance is a feature in object-oriented programming where a subclass can inherit from multiple superclasses. This means that a single class can have multiple parent classes.\n",
    "\n",
    "Here's an example code that demonstrates multiple inheritance in Python:\n",
    "'''\n",
    "\n",
    "class A:\n",
    "    def method_A(self):\n",
    "        print(\"This is method A from class A\")\n",
    "\n",
    "class B:\n",
    "    def method_B(self):\n",
    "        print(\"This is method B from class B\")\n",
    "\n",
    "class C(A, B):\n",
    "    def method_C(self):\n",
    "        print(\"This is method C from class C\")\n",
    "\n",
    "# create an object of class C\n",
    "c = C()\n",
    "\n",
    "# call methods of class A and B\n",
    "c.method_A()\n",
    "c.method_B()\n",
    "\n",
    "# call method of class C\n",
    "c.method_C()\n"
   ]
  },
  {
   "cell_type": "code",
   "execution_count": 6,
   "id": "f4cd7bfc-4026-4ae7-a865-b3fc567abca1",
   "metadata": {},
   "outputs": [
    {
     "name": "stdout",
     "output_type": "stream",
     "text": [
      "John\n",
      "Jane\n"
     ]
    }
   ],
   "source": [
    "'''Q4. What are getter and setter in python? Create a class and create a getter and a setter method in this class.\n",
    "\n",
    "In Python, getters and setters are special methods that are used to access and modify the attributes of a class.\n",
    "Getters are used to retrieve the value of an attribute, and setters are used to modify the value of an attribute.\n",
    "The purpose of using getters and setters is to provide a controlled way of accessing and modifying the attributes of a class,\n",
    "and to prevent direct access to the attributes.\n",
    "\n",
    "Here is an example class that has a getter and a setter method for the attribute name:'''\n",
    "\n",
    "class Person:\n",
    "    def __init__(self, name):\n",
    "        self._name = name\n",
    "    \n",
    "    def get_name(self):\n",
    "        return self._name\n",
    "    \n",
    "    def set_name(self, name):\n",
    "        self._name = name\n",
    "\n",
    "'''this example, the attribute name is denoted by _name to indicate that it is a protected attribute. \n",
    "The get_name method is used to retrieve the value of the attribute, and the set_name method is used to modify the value of the attribute.\n",
    "\n",
    "Here is an example of how to use the getter and setter methods:'''\n",
    "\n",
    "person = Person(\"John\")\n",
    "print(person.get_name())  # Output: John\n",
    "\n",
    "person.set_name(\"Jane\")\n",
    "print(person.get_name())  # Output: Jane\n"
   ]
  },
  {
   "cell_type": "code",
   "execution_count": 7,
   "id": "36642e50-3428-4283-953c-aac0928257b3",
   "metadata": {},
   "outputs": [
    {
     "name": "stdout",
     "output_type": "stream",
     "text": [
      "Barking\n"
     ]
    }
   ],
   "source": [
    "'''Q5.What is method overriding in python? Write a python code to demonstrate method overriding.\n",
    "\n",
    "Method overriding is the process of redefining a method in a child class which is already defined in the parent class.\n",
    "\n",
    "Here's an example:'''\n",
    "\n",
    "class Animal:\n",
    "    def sound(self):\n",
    "        print(\"Making some noise\")\n",
    "\n",
    "class Dog(Animal):\n",
    "    def sound(self):\n",
    "        print(\"Barking\")\n",
    "\n",
    "dog = Dog()\n",
    "dog.sound()\n"
   ]
  },
  {
   "cell_type": "code",
   "execution_count": null,
   "id": "34886156-a90d-4f07-80f4-60b911787fae",
   "metadata": {},
   "outputs": [],
   "source": []
  }
 ],
 "metadata": {
  "kernelspec": {
   "display_name": "Python 3 (ipykernel)",
   "language": "python",
   "name": "python3"
  },
  "language_info": {
   "codemirror_mode": {
    "name": "ipython",
    "version": 3
   },
   "file_extension": ".py",
   "mimetype": "text/x-python",
   "name": "python",
   "nbconvert_exporter": "python",
   "pygments_lexer": "ipython3",
   "version": "3.10.8"
  }
 },
 "nbformat": 4,
 "nbformat_minor": 5
}
