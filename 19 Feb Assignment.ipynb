{
 "cells": [
  {
   "cell_type": "code",
   "execution_count": null,
   "id": "3b608acd-3041-4555-b36f-191dfb530e55",
   "metadata": {},
   "outputs": [],
   "source": [
    "#Q1. What is Flask Framework? What are the advantages of Flask Framework?\n",
    "\n",
    "'''Flask is a micro web framework written in Python. It is classified as a microframework because it does not require particular tools or libraries. It has no database abstraction layer, form validation, or any other components where pre-existing third-party libraries provide common functions. Flask supports extensions that can add application features as if they were implemented in Flask itself.\n",
    "\n",
    "Some of the advantages of using Flask include:\n",
    "\n",
    "Lightweight: Flask is a lightweight framework that is easy to install and requires minimal dependencies, making it a great choice for building small to medium-sized web applications.\n",
    "\n",
    "Flexible: Flask allows developers to have complete control over the structure and components of their web applications. It supports a wide range of extensions that can be used to add functionality as needed.\n",
    "\n",
    "Easy to learn: Flask has a simple and intuitive API that is easy to learn and use, even for developers who are new to Python or web development.\n",
    "\n",
    "Good documentation: Flask has excellent documentation that is clear, concise, and easy to follow, making it easy to get started with the framework and build web applications quickly.\n",
    "\n",
    "Scalable: Flask can be used to build applications of any size and complexity, from small personal projects to large enterprise applications. It is designed to be modular and extensible, which makes it easy to add new features and scale up as needed.\n",
    "\n",
    "Pythonic: Flask follows the \"Pythonic\" way of doing things, which means that it is easy to read, write, and maintain. It also integrates well with other Python libraries and tools, making it a natural choice for Python developers.'''\n"
   ]
  },
  {
   "cell_type": "code",
   "execution_count": 1,
   "id": "09ee6c5e-549e-4497-b949-41c09e2f2ede",
   "metadata": {},
   "outputs": [
    {
     "ename": "ModuleNotFoundError",
     "evalue": "No module named 'flask'",
     "output_type": "error",
     "traceback": [
      "\u001b[0;31m---------------------------------------------------------------------------\u001b[0m",
      "\u001b[0;31mModuleNotFoundError\u001b[0m                       Traceback (most recent call last)",
      "Cell \u001b[0;32mIn[1], line 3\u001b[0m\n\u001b[1;32m      1\u001b[0m \u001b[38;5;66;03m#Q2. Create a simple Flask application to display ‘Hello World!!’. Attach the screenshot of the output in Jupyter Notebook.\u001b[39;00m\n\u001b[0;32m----> 3\u001b[0m \u001b[38;5;28;01mfrom\u001b[39;00m \u001b[38;5;21;01mflask\u001b[39;00m \u001b[38;5;28;01mimport\u001b[39;00m Flask\n\u001b[1;32m      5\u001b[0m app \u001b[38;5;241m=\u001b[39m Flask(\u001b[38;5;18m__name__\u001b[39m)\n\u001b[1;32m      7\u001b[0m \u001b[38;5;129m@app\u001b[39m\u001b[38;5;241m.\u001b[39mroute(\u001b[38;5;124m'\u001b[39m\u001b[38;5;124m/\u001b[39m\u001b[38;5;124m'\u001b[39m)\n\u001b[1;32m      8\u001b[0m \u001b[38;5;28;01mdef\u001b[39;00m \u001b[38;5;21mhello\u001b[39m():\n",
      "\u001b[0;31mModuleNotFoundError\u001b[0m: No module named 'flask'"
     ]
    }
   ],
   "source": [
    "#Q2. Create a simple Flask application to display ‘Hello World!!’. Attach the screenshot of the output in Jupyter Notebook.\n",
    "\n",
    "from flask import Flask\n",
    "\n",
    "app = Flask(__name__)\n",
    "\n",
    "@app.route('/')\n",
    "def hello():\n",
    "    return 'Hello World!!'\n",
    "\n",
    "if __name__ == '__main__':\n",
    "    app.run(debug=True)\n"
   ]
  },
  {
   "cell_type": "code",
   "execution_count": null,
   "id": "b3bbe69c-1fa8-41a5-a539-37566bbcfe11",
   "metadata": {},
   "outputs": [],
   "source": [
    "#Q3. What is App routing in Flask? Why do we use app routes?\n",
    "\n",
    "'''In Flask, routing refers to the process of directing incoming requests from the client to the appropriate view function, which then generates an HTTP response. App routing in Flask is the process of defining routes or URL patterns for your Flask application.\n",
    "\n",
    "We use app routes in Flask to map a URL to a specific view function that handles the request and generates a response. It allows us to create different routes for different parts of our web application and enables users to access specific pages or functionalities of the application using unique URLs.\n",
    "\n",
    "For example, consider a Flask application with two views, one to display a homepage and another to display a contact page. We can define two app routes for these views as follows:'''\n",
    "\n",
    "@app.route('/')\n",
    "def home():\n",
    "    return 'Welcome to the homepage!'\n",
    "\n",
    "@app.route('/contact')\n",
    "def contact():\n",
    "    return 'This is the contact page.'\n",
    "\n",
    "'''Here, the @app.route() decorator is used to define the route for each view. The home() function will be called when the user navigates to the root URL (i.e., http://localhost:5000/), and the contact() function will be called when the user navigates to the /contact URL (i.e., http://localhost:5000/contact).\n",
    "\n",
    "By using app routes, we can create a well-structured and organized Flask application with clear and logical URLs for each view function.'''"
   ]
  },
  {
   "cell_type": "code",
   "execution_count": null,
   "id": "6fb8e6a8-fb4c-49d3-a4db-e88fcbd8548e",
   "metadata": {},
   "outputs": [],
   "source": [
    "'''Q4. Create a “/welcome” route to display the welcome message “Welcome to ABC Corporation” and a “/”\n",
    "route to show the following details:\n",
    "Company Name: ABC Corporation\n",
    "Location: India\n",
    "Contact Detail: 999-999-9999'''\n",
    "\n",
    "from flask import Flask\n",
    "\n",
    "app = Flask(__name__)\n",
    "\n",
    "@app.route('/')\n",
    "def index():\n",
    "    return 'Company Name: ABC Corporation<br>Location: India<br>Contact Detail: 999-999-9999'\n",
    "\n",
    "@app.route('/welcome')\n",
    "def welcome():\n",
    "    return 'Welcome to ABC Corporation'\n",
    "\n",
    "if __name__ == '__main__':\n",
    "    app.run()\n",
    "\n",
    "'''In the above code, we have defined two routes using the @app.route() decorator. The first route ('/') displays the company details as specified in the question, while the second route ('/welcome') displays the welcome message.\n",
    "\n",
    "To run this Flask application, save the code in a file (let's say app.py) and run it using the command flask run in the terminal. Once the application is running, you can access the two routes by navigating to the following URLs:\n",
    "\n",
    "http://localhost:5000/ : This will display the company details.\n",
    "http://localhost:5000/welcome : This will display the welcome message.\n",
    "Here's a screenshot of the output when accessing the two routes:'''\n",
    "\n"
   ]
  },
  {
   "cell_type": "code",
   "execution_count": null,
   "id": "732a0b8b-5c9a-4161-a340-80d6049470cb",
   "metadata": {},
   "outputs": [],
   "source": [
    "#Q5. What function is used in Flask for URL Building? Write a Python code to demonstrate the working of the\n",
    "#url_for() function.\n",
    "\n",
    "'''The url_for() function is used in Flask for URL building. It generates a URL to a specific function or endpoint by taking the endpoint name as the first argument and any number of keyword arguments, each corresponding to a variable part of the URL rule.\n",
    "\n",
    "Here's an example code to demonstrate the working of the url_for() function:'''\n",
    "\n",
    "from flask import Flask, url_for\n",
    "\n",
    "app = Flask(__name__)\n",
    "\n",
    "@app.route('/hello/<name>')\n",
    "def hello(name):\n",
    "    return f'Hello, {name}!'\n",
    "\n",
    "@app.route('/user/<int:user_id>')\n",
    "def user(user_id):\n",
    "    return f'The user ID is {user_id}'\n",
    "\n",
    "with app.test_request_context():\n",
    "    print(url_for('hello', name='John'))\n",
    "    # Output: /hello/John\n",
    "    print(url_for('user', user_id=123))\n",
    "    # Output: /user/123\n",
    "\n",
    "'''In the above code, we have defined two routes ('/hello/<name>' and '/user/<int:user_id>') using the @app.route() decorator. The hello() function takes a name as input and returns a personalized greeting, while the user() function takes a user ID as input and returns a message displaying the user ID.\n",
    "\n",
    "After defining the routes, we have used the url_for() function to generate URLs to these routes by passing the endpoint names and the required parameters as keyword arguments. We have also used the test_request_context() function to create a test request context for the url_for() function to work.\n",
    "\n",
    "When we run the code, the url_for() function generates the required URLs, which we have printed using the print() function.\n",
    "\n",
    "Note that the url_for() function generates a URL relative to the application's URL, so the output may vary based on the actual URL of the application.'''"
   ]
  }
 ],
 "metadata": {
  "kernelspec": {
   "display_name": "Python 3 (ipykernel)",
   "language": "python",
   "name": "python3"
  },
  "language_info": {
   "codemirror_mode": {
    "name": "ipython",
    "version": 3
   },
   "file_extension": ".py",
   "mimetype": "text/x-python",
   "name": "python",
   "nbconvert_exporter": "python",
   "pygments_lexer": "ipython3",
   "version": "3.10.8"
  }
 },
 "nbformat": 4,
 "nbformat_minor": 5
}
