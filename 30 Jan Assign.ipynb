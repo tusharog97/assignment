{
 "cells": [
  {
   "cell_type": "code",
   "execution_count": 5,
   "id": "48fe5f0d-cd7e-4344-9040-0fec89ebf31e",
   "metadata": {},
   "outputs": [
    {
     "name": "stdin",
     "output_type": "stream",
     "text": [
      "Enter your Marks 96\n"
     ]
    },
    {
     "name": "stdout",
     "output_type": "stream",
     "text": [
      "You're in Grade A\n"
     ]
    }
   ],
   "source": [
    "#Q.1\n",
    "Marks=int(input(\"Enter your Marks\"))\n",
    "if Marks>90:\n",
    "    print(\"You're in Grade A\")\n",
    "elif Marks>80 and Marks<=90:\n",
    "    print(\"You're in Grade B\")\n",
    "elif Marks >=60 and Marks<=80:\n",
    "    print(\"You're in Grade C\")\n",
    "else:\n",
    "    print(\"You're in Grade D\")"
   ]
  },
  {
   "cell_type": "code",
   "execution_count": 11,
   "id": "84884f86-2c22-4a61-8e38-6d5c198b2363",
   "metadata": {},
   "outputs": [
    {
     "name": "stdin",
     "output_type": "stream",
     "text": [
      "Enter your Bike Cost 60000\n"
     ]
    },
    {
     "name": "stdout",
     "output_type": "stream",
     "text": [
      "You need to Pay 10% Road Tax\n"
     ]
    }
   ],
   "source": [
    "#Q.2\n",
    "bike_cost=int(input(\"Enter your Bike Cost\"))\n",
    "if bike_cost>100000:\n",
    "    print(\"You need to Pay 15% Road Tax\")\n",
    "elif bike_cost>50000 and bike_cost<100000:\n",
    "    print(\"You need to Pay 10% Road Tax\")\n",
    "else:\n",
    "    print(\"You need to pay 5% Road Tax\")"
   ]
  },
  {
   "cell_type": "code",
   "execution_count": 15,
   "id": "dcf0f47f-2eb8-4db0-9638-372b6e9a2c1b",
   "metadata": {},
   "outputs": [
    {
     "name": "stdin",
     "output_type": "stream",
     "text": [
      "Enter your City Jaipur\n"
     ]
    },
    {
     "name": "stdout",
     "output_type": "stream",
     "text": [
      "Monument of your city is Jal Mahal\n"
     ]
    }
   ],
   "source": [
    "#Q.3\n",
    "city_name=input(\"Enter your City\")\n",
    "if city_name==\"Delhi\":\n",
    "    print(\"Monument of your city is Red Fort\")\n",
    "if city_name==\"Agra\":\n",
    "    print(\"Monument of your city is Taj Mahal\")\n",
    "if city_name==\"Jaipur\":\n",
    "    print(\"Monument of your city is Jal Mahal\")\n",
    "    "
   ]
  },
  {
   "cell_type": "code",
   "execution_count": 21,
   "id": "173f1aa0-1c0d-45cb-9b03-8e82fd43a426",
   "metadata": {},
   "outputs": [
    {
     "name": "stdin",
     "output_type": "stream",
     "text": [
      "enter the number 86\n"
     ]
    },
    {
     "data": {
      "text/plain": [
       "0"
      ]
     },
     "execution_count": 21,
     "metadata": {},
     "output_type": "execute_result"
    }
   ],
   "source": [
    "''' Q.4> Check how many times a given number can be divided by 3 before it is less than or equal to 10.'''\n",
    "number=int(input(\"enter the number\"))\n",
    "list=[]\n",
    "for i in range(11, number):\n",
    "    if i/3==0:\n",
    "        i.append(i)\n",
    "len(list)"
   ]
  },
  {
   "cell_type": "code",
   "execution_count": 3,
   "id": "69a409ce-7a6a-49d3-b465-6edf74e29989",
   "metadata": {},
   "outputs": [
    {
     "name": "stdout",
     "output_type": "stream",
     "text": [
      "1\n",
      "2\n",
      "3\n",
      "4\n",
      "5\n",
      "6\n",
      "7\n",
      "8\n",
      "9\n",
      "10\n"
     ]
    }
   ],
   "source": [
    "#Q5. Why and when to use while loop in python give a detailed description with example. \n",
    "#The while loop in Python is used to repeatedly execute a block of code as long as a specific condition is met.\n",
    "#The code within the while loop will continue to run until the condition becomes false.\n",
    "\n",
    "#For example, you may want to print all the numbers from 1 to 10. You can use the following code:\n",
    "count = 1\n",
    "\n",
    "while count <= 10:\n",
    "    print(count)\n",
    "    count += 1"
   ]
  },
  {
   "cell_type": "code",
   "execution_count": 2,
   "id": "378d1543-730b-4a96-a213-bb7740bd9c7b",
   "metadata": {},
   "outputs": [
    {
     "name": "stdout",
     "output_type": "stream",
     "text": [
      "Pattern 1:\n",
      "*\n",
      "**\n",
      "***\n",
      "****\n",
      "*****\n",
      " Pattern 2:\n",
      "*****\n",
      "****\n",
      "***\n",
      "**\n",
      "*\n",
      "Pattern 3:\n",
      "    *\n",
      "   **\n",
      "  ***\n",
      " ****\n",
      "*****\n"
     ]
    }
   ],
   "source": [
    "#Q6\n",
    "#Use nested while loop to print 3 different patterns in python\n",
    "#here is an example of how to use nested while loops to print 3 different patterns\n",
    "\n",
    "print(\"Pattern 1:\")\n",
    "\n",
    "i = 1\n",
    "while i <= 5:\n",
    "    j = 1\n",
    "    while j <= i:\n",
    "        print(\"*\", end=\"\")\n",
    "        j = j + 1\n",
    "    print()\n",
    "    i = i + 1\n",
    "\n",
    "print(\" Pattern 2:\")\n",
    "\n",
    "i = 5\n",
    "while i >= 1:\n",
    "    j = 1\n",
    "    while j <= i:\n",
    "        print(\"*\", end=\"\")\n",
    "        j = j + 1\n",
    "    print()\n",
    "    i = i - 1\n",
    "\n",
    "print(\"Pattern 3:\")\n",
    "\n",
    "i = 5\n",
    "while i >= 1:\n",
    "    j = 1\n",
    "    while j <= 5:\n",
    "        if j < i:\n",
    "            print(\" \", end=\"\")\n",
    "        else:\n",
    "            print(\"*\", end=\"\")\n",
    "        j = j + 1\n",
    "    print()\n",
    "    i = i - 1\n"
   ]
  },
  {
   "cell_type": "code",
   "execution_count": 4,
   "id": "83944c57-be6f-4eea-88d3-e180efe34f77",
   "metadata": {},
   "outputs": [
    {
     "name": "stdout",
     "output_type": "stream",
     "text": [
      "10\n",
      "9\n",
      "8\n",
      "7\n",
      "6\n",
      "5\n",
      "4\n",
      "3\n",
      "2\n",
      "1\n"
     ]
    }
   ],
   "source": [
    "#Q.7> Reverse a while loop to display numbers from 10 to 1\n",
    "#Ans. Here's one way to reverse a while loop and display numbers from 10 to 1 in Python:\n",
    "\n",
    "number = 10\n",
    "while number >= 1:\n",
    "    print(number)\n",
    "    number -= 1\n"
   ]
  },
  {
   "cell_type": "code",
   "execution_count": null,
   "id": "c2687b5e-83a5-43f7-990f-933c970c3fdd",
   "metadata": {},
   "outputs": [],
   "source": []
  }
 ],
 "metadata": {
  "kernelspec": {
   "display_name": "Python 3 (ipykernel)",
   "language": "python",
   "name": "python3"
  },
  "language_info": {
   "codemirror_mode": {
    "name": "ipython",
    "version": 3
   },
   "file_extension": ".py",
   "mimetype": "text/x-python",
   "name": "python",
   "nbconvert_exporter": "python",
   "pygments_lexer": "ipython3",
   "version": "3.10.8"
  }
 },
 "nbformat": 4,
 "nbformat_minor": 5
}
