{
 "cells": [
  {
   "cell_type": "code",
   "execution_count": null,
   "id": "da09b798-08c9-42e0-ad9c-2ca24e1dc7f4",
   "metadata": {},
   "outputs": [],
   "source": [
    "#Q1. Explain Class and Object with respect to Object-Oriented Programming. Give a suitable example.\n",
    "\n",
    "'''Class and Object are two fundamental concepts of Object-Oriented Programming (OOP).\n",
    "\n",
    "A class is a blueprint or a template that defines the properties and behaviors of an object.\n",
    "It acts as a blueprint for creating objects and defines the data and methods that the objects created from the class will have.\n",
    "For example, consider a class \"Car\". This class can have properties such as make, model, color, and year, and methods such as start(), stop(),\n",
    "and accelerate().\n",
    "\n",
    "An object, on the other hand, is an instance of a class. An object is created from a class,\n",
    "and it contains the data and behaviors defined in the class. For example, you can create an object \"my_car\" from the class \"Car\",\n",
    "set its make to \"Toyota\", model to \"Camry\", color to \"red\", and year to 2020.\n",
    "\n",
    "In simple words, a class defines what an object is, and an object is an instance of a class that contains the data and behaviors defined in the\n",
    "class.'''\n"
   ]
  },
  {
   "cell_type": "code",
   "execution_count": null,
   "id": "662b2fc0-4031-4f4a-b4c2-b4d8500212d9",
   "metadata": {},
   "outputs": [],
   "source": [
    "#Q2. Name the four pillars of OOPs.\n",
    "\n",
    "'''The four pillars of Object-Oriented Programming (OOPs) are:\n",
    "\n",
    "Abstraction: This refers to the ability of an object to hide its internal complexity and data and expose only relevant and necessary information to the outside world. This helps in reducing the coupling between objects and makes the system easier to understand and maintain.\n",
    "\n",
    "Encapsulation: This refers to the practice of bundling data and functions that operate on that data within a single unit, or object. This is done to provide better security, data hiding, and easier implementation of methods.\n",
    "\n",
    "Inheritance: This refers to the mechanism by which new classes can be derived from existing classes. This allows for reuse of code and reduces the amount of redundant code in the system.\n",
    "\n",
    "Polymorphism: This refers to the ability of an object to take on multiple forms.\n",
    "Polymorphism is used in object-oriented programming to allow objects to act differently in different situations while maintaining a common interface.'''\n"
   ]
  },
  {
   "cell_type": "code",
   "execution_count": 1,
   "id": "f9f1ee11-c753-4221-8c8d-776668c41155",
   "metadata": {},
   "outputs": [
    {
     "name": "stdout",
     "output_type": "stream",
     "text": [
      "Toyota\n",
      "Corolla\n",
      "2020\n"
     ]
    }
   ],
   "source": [
    "'''Q3. Explain why the __init__() function is used. Give a suitable example.\n",
    "\n",
    "The __init__() function is a special method in Python that is automatically called when an object of a class is created. It is also referred to as the constructor of the class.\n",
    "\n",
    "The __init__() function is used to initialize the object's state when it is created. It can take arguments that can be used to set the attributes of the object. The purpose of the __init__() function is to set the initial state of the object and to define the behavior of the object when it is created.\n",
    "\n",
    "Here's an example:'''\n",
    "\n",
    "\n",
    "class Car:\n",
    "    def __init__(self, make, model, year):\n",
    "        self.make = make\n",
    "        self.model = model\n",
    "        self.year = year\n",
    "\n",
    "my_car = Car(\"Toyota\", \"Corolla\", 2020)\n",
    "print(my_car.make) # Toyota\n",
    "print(my_car.model) # Corolla\n",
    "print(my_car.year) # 2020\n"
   ]
  },
  {
   "cell_type": "code",
   "execution_count": 2,
   "id": "4ef41f46-fd73-4cae-9c73-b1b450993dba",
   "metadata": {},
   "outputs": [
    {
     "name": "stdout",
     "output_type": "stream",
     "text": [
      "Buddy barks!\n"
     ]
    }
   ],
   "source": [
    "'''Q4. Why self is used in OOPs?\n",
    "In object-oriented programming, self refers to the instance of the class. It is a reference to the current object,\n",
    "and it is used to access the attributes and methods of the class.\n",
    "The self keyword is used to differentiate between class attributes and instance attributes, and it allows you to access the instance attributes\n",
    "within the class. The use of self is mandatory in class methods, including the __init__ method. This ensures that the method operates on the\n",
    "instance of the class and not on the class itself.\n",
    "\n",
    "Here is an example:'''\n",
    "\n",
    "class Dog:\n",
    "    def __init__(self, name, breed):\n",
    "        self.name = name\n",
    "        self.breed = breed\n",
    "    \n",
    "    def bark(self):\n",
    "        print(f\"{self.name} barks!\")\n",
    "        \n",
    "dog = Dog(\"Buddy\", \"Labrador\")\n",
    "dog.bark()\n"
   ]
  },
  {
   "cell_type": "code",
   "execution_count": 3,
   "id": "9f3f413c-4685-417c-a185-7db5a3274d6d",
   "metadata": {},
   "outputs": [],
   "source": [
    "'''Q5. What is inheritance? Give an example for each type of inheritance.\n",
    "\n",
    "Inheritance is a mechanism in Object-Oriented Programming (OOP) where a class can inherit properties and behaviors from a parent class.\n",
    "It is used to create a new class (child class) that is a modified version of an existing class (parent class). There are several types of inheritance in Python:\n",
    "\n",
    "1. Single inheritance: A class derived from a single parent class.\n",
    "Example:'''\n",
    "class Parent:\n",
    "    def __init__(self, a):\n",
    "        self.a = a\n",
    "\n",
    "class Child(Parent):\n",
    "    def __init__(self, a, b):\n",
    "        Parent.__init__(self, a)\n",
    "        self.b = b\n",
    "'''2.Multiple inheritance: A class derived from multiple parent classes.\n",
    "Example:'''\n",
    "\n",
    "class Parent1:\n",
    "    def __init__(self, a):\n",
    "        self.a = a\n",
    "\n",
    "class Parent2:\n",
    "    def __init__(self, b):\n",
    "        self.b = b\n",
    "\n",
    "class Child(Parent1, Parent2):\n",
    "    def __init__(self, a, b, c):\n",
    "        Parent1.__init__(self, a)\n",
    "        Parent2.__init__(self, b)\n",
    "        self.c = c\n",
    "\n",
    "'''3. Multi-level inheritance: A class derived from a class that is already derived from another class.\n",
    "Example:'''\n",
    "\n",
    "class GrandParent:\n",
    "    def __init__(self, a):\n",
    "        self.a = a\n",
    "\n",
    "class Parent(GrandParent):\n",
    "    def __init__(self, a, b):\n",
    "        GrandParent.__init__(self, a)\n",
    "        self.b = b\n",
    "\n",
    "class Child(Parent):\n",
    "    def __init__(self, a, b, c):\n",
    "        Parent.__init__(self, a, b)\n",
    "        self.c = c\n",
    "\n",
    "''''4.Hierarchical inheritance: A class derived from multiple parent classes where each parent class is derived from a common parent class.\n",
    "Example:'''\n",
    "\n",
    "class GrandParent:\n",
    "    def __init__(self, a):\n",
    "        self.a = a\n",
    "\n",
    "class Parent1(GrandParent):\n",
    "    def __init__(self, a, b):\n",
    "        GrandParent.__init__(self, a)\n",
    "        self.b = b\n",
    "\n",
    "class Parent2(GrandParent):\n",
    "    def __init__(self, a, c):\n",
    "        GrandParent.__init__(self, a)\n",
    "        self.c = c\n",
    "\n",
    "class Child1(Parent1):\n",
    "    def __init__(self, a, b, d):\n",
    "        Parent1.__init__(self, a, b)\n",
    "        self.d = d\n",
    "\n",
    "class Child2(Parent2):\n",
    "    def __init__(self, a, c, e):\n",
    "        Parent2.__init__(self, a, c)\n",
    "        self.e = e\n"
   ]
  },
  {
   "cell_type": "code",
   "execution_count": null,
   "id": "2a003389-2593-4fbd-8ea6-4a9b2622453b",
   "metadata": {},
   "outputs": [],
   "source": []
  }
 ],
 "metadata": {
  "kernelspec": {
   "display_name": "Python 3 (ipykernel)",
   "language": "python",
   "name": "python3"
  },
  "language_info": {
   "codemirror_mode": {
    "name": "ipython",
    "version": 3
   },
   "file_extension": ".py",
   "mimetype": "text/x-python",
   "name": "python",
   "nbconvert_exporter": "python",
   "pygments_lexer": "ipython3",
   "version": "3.10.8"
  }
 },
 "nbformat": 4,
 "nbformat_minor": 5
}
