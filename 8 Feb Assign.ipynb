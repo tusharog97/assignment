{
 "cells": [
  {
   "cell_type": "code",
   "execution_count": null,
   "id": "e9b151dd-b45d-4a3c-8259-119250ee0ad9",
   "metadata": {},
   "outputs": [],
   "source": [
    "'''Q1. What is Abstraction in OOps? Explain with an example.\n",
    "\n",
    "Abstraction is the process of hiding complex implementations of objects, data or methods to simplify \n",
    "their usage for the user. In object-oriented programming,it is achieved by using abstract classes and\n",
    "interfaces. Abstraction allows the user to interact with the objects without worrying about how they\n",
    "are implemented.'''\n"
   ]
  },
  {
   "cell_type": "code",
   "execution_count": null,
   "id": "621518c0-0da0-4526-b632-f64022be2e32",
   "metadata": {},
   "outputs": [],
   "source": [
    "# Q2. Differentiate between Abstraction and Encapsulation. Explain with an example.\n",
    "\n",
    "'''Abstraction and Encapsulation are two important concepts in object-oriented programming.\n",
    "\n",
    "Abstraction is a way to show only the necessary details of an object and hide the unnecessary details. It helps to simplify complex systems by breaking them down into smaller and more manageable parts. In other words, Abstraction is the concept of \"showing only the necessary things to the outside world and hiding the rest.\"\n",
    "\n",
    "For example, a car is an abstraction of a complex system of components such as the engine, transmission, wheels, and many other parts. The driver of the car doesn't need to know how the engine or transmission work, but only needs to know how to operate the steering wheel, brake pedal, and accelerator. The details of the engine and transmission are abstracted away, and the driver can focus on driving the car safely.\n",
    "\n",
    "Encapsulation, on the other hand, is a way to protect data and methods from being accessed by outside code. It is the concept of \"hiding the internal workings of an object from the outside world.\" This can be achieved by using access modifiers such as private, public, and protected.\n",
    "\n",
    "For example, a bank account is encapsulated because only the owner of the account can access the account details and perform transactions. The bank uses the concept of encapsulation to protect the account data and ensure that only authorized people can access the account.\n",
    "\n",
    "In summary, Abstraction is the concept of hiding unnecessary details and showing only the necessary ones, while Encapsulation is the concept of protecting the data and methods from outside access.'''\n"
   ]
  },
  {
   "cell_type": "code",
   "execution_count": 1,
   "id": "8afb7e8a-d954-4d90-85dc-fefc3a1910cc",
   "metadata": {},
   "outputs": [
    {
     "name": "stdout",
     "output_type": "stream",
     "text": [
      "Meow\n",
      "Woof\n"
     ]
    }
   ],
   "source": [
    "'''Q3. What is abc module in python? Why is it used?\n",
    "\n",
    "The abc module in Python stands for \"Abstract Base Classes\". It is used to define abstract base classes, which are classes that cannot be instantiated but are meant to be subclassed by other classes. The purpose of using abstract base classes is to provide a way to define a common interface for a group of related classes, without specifying their implementation details.\n",
    "\n",
    "The abc module provides the ABC class, which can be used as a metaclass to define abstract base classes. Subclasses of an abstract base class must implement all the abstract methods defined in the base class, or else they will also be considered abstract and cannot be instantiated.\n",
    "\n",
    "Here's an example of using the abc module to define an abstract base class:'''\n",
    "\n",
    "from abc import ABC, abstractmethod\n",
    "\n",
    "class Animal(ABC):\n",
    "    @abstractmethod\n",
    "    def make_sound(self):\n",
    "        pass\n",
    "\n",
    "class Cat(Animal):\n",
    "    def make_sound(self):\n",
    "        print(\"Meow\")\n",
    "\n",
    "class Dog(Animal):\n",
    "    def make_sound(self):\n",
    "        print(\"Woof\")\n",
    "\n",
    "cat = Cat()\n",
    "cat.make_sound()  # Output: \"Meow\"\n",
    "\n",
    "dog = Dog()\n",
    "dog.make_sound()  # Output: \"Woof\"\n"
   ]
  },
  {
   "cell_type": "code",
   "execution_count": 2,
   "id": "27b163a3-eada-49a7-ab45-f0cfd1cd8e78",
   "metadata": {},
   "outputs": [],
   "source": [
    "#Q4. How can we achieve data abstraction?\n",
    "\n",
    "'''In object-oriented programming, data abstraction can be achieved by creating abstract classes or interfaces that provide a high-level view of the object's behavior without exposing the implementation details. The implementation details are hidden behind the public methods and properties of the class, which can be accessed by other classes or objects.\n",
    "\n",
    "To achieve data abstraction in Python, we can use abstract base classes (ABCs) provided by the abc module. We can create abstract classes and methods using the abstractmethod decorator, which requires the derived classes to implement the abstract methods.\n",
    "\n",
    "Here is an example of how to achieve data abstraction in Python using ABCs:'''\n",
    "\n",
    "from abc import ABC, abstractmethod\n",
    "\n",
    "class Shape(ABC):\n",
    "    @abstractmethod\n",
    "    def area(self):\n",
    "        pass\n",
    "\n",
    "class Rectangle(Shape):\n",
    "    def __init__(self, width, height):\n",
    "        self.width = width\n",
    "        self.height = height\n",
    "    \n",
    "    def area(self):\n",
    "        return self.width * self.height\n",
    "\n",
    "class Circle(Shape):\n",
    "    def __init__(self, radius):\n",
    "        self.radius = radius\n",
    "    \n",
    "    def area(self):\n",
    "        return 3.14 * self.radius ** 2\n"
   ]
  },
  {
   "cell_type": "code",
   "execution_count": 3,
   "id": "7db5e840-2e77-4db6-8103-e8221b44fea6",
   "metadata": {},
   "outputs": [
    {
     "name": "stdout",
     "output_type": "stream",
     "text": [
      "78.5\n"
     ]
    }
   ],
   "source": [
    "#Q5. Can we create an instance of an abstract class? Explain your answer.\n",
    "\n",
    "'''\n",
    "No, we cannot create an instance of an abstract class in Python. An abstract class is a class that contains one or more abstract methods. An abstract method is a method that has a declaration but does not have an implementation. In Python, we can define an abstract class by importing the ABC module and using the abstractmethod() decorator to declare an abstract method.\n",
    "\n",
    "Since an abstract class contains one or more abstract methods that do not have an implementation, it cannot be instantiated. We can only create an instance of a concrete class that extends the abstract class and provides an implementation for all the abstract methods in the abstract class.\n",
    "\n",
    "For example, consider the following code:'''\n",
    "from abc import ABC, abstractmethod\n",
    "\n",
    "class Shape(ABC):\n",
    "    @abstractmethod\n",
    "    def area(self):\n",
    "        pass\n",
    "\n",
    "class Circle(Shape):\n",
    "    def __init__(self, radius):\n",
    "        self.radius = radius\n",
    "    \n",
    "    def area(self):\n",
    "        return 3.14 * self.radius ** 2\n",
    "\n",
    "c = Circle(5)\n",
    "print(c.area())\n"
   ]
  },
  {
   "cell_type": "code",
   "execution_count": null,
   "id": "ded3106e-52e4-4d51-a02d-693db53d7d9f",
   "metadata": {},
   "outputs": [],
   "source": []
  }
 ],
 "metadata": {
  "kernelspec": {
   "display_name": "Python 3 (ipykernel)",
   "language": "python",
   "name": "python3"
  },
  "language_info": {
   "codemirror_mode": {
    "name": "ipython",
    "version": 3
   },
   "file_extension": ".py",
   "mimetype": "text/x-python",
   "name": "python",
   "nbconvert_exporter": "python",
   "pygments_lexer": "ipython3",
   "version": "3.10.8"
  }
 },
 "nbformat": 4,
 "nbformat_minor": 5
}
