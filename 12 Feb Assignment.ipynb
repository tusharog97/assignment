{
 "cells": [
  {
   "cell_type": "code",
   "execution_count": null,
   "id": "2989b6ae-22d9-4623-b212-2bd1720a925c",
   "metadata": {},
   "outputs": [],
   "source": [
    "'''Q1- What is an Exception in python? Write the difference between Exceptions and Syntax errors.\n",
    "\n",
    "n Python, an exception is an error that occurs during the execution of a program. Whenever an error occurs, Python creates an exception object that contains information about the error, such as the type of the exception, the line number where the error occurred, and a message that describes the error.\n",
    "\n",
    "Exceptions can occur due to various reasons, such as programming errors, runtime errors, and user errors. Some common examples of exceptions are ZeroDivisionError, NameError, TypeError, FileNotFoundError, ValueError, etc.\n",
    "\n",
    "Syntax errors, on the other hand, are errors that occur due to incorrect syntax or structure of the program. These errors are detected by the Python interpreter during the parsing phase, i.e., before the program is executed. Syntax errors prevent the program from running and must be fixed before the program can be executed.\n",
    "\n",
    "The main difference between exceptions and syntax errors is that exceptions occur during the execution of the program, while syntax errors occur during the parsing of the program. Exceptions are caused by runtime errors and can be handled using try-except blocks, while syntax errors must be fixed by correcting the syntax of the program. Another difference is that exceptions can occur at any point during the execution of the program, while syntax errors occur before the program starts executing.\n",
    "\n",
    "In summary, exceptions are errors that occur during the execution of a program, while syntax errors are errors that occur due to incorrect syntax or structure of the program. Exceptions can be handled using try-except blocks, while syntax errors must be fixed by correcting the syntax of the program.'''\n"
   ]
  },
  {
   "cell_type": "code",
   "execution_count": null,
   "id": "8e5bb456-569a-4838-b688-7d415305996e",
   "metadata": {},
   "outputs": [],
   "source": [
    "'''Q2- What happens when an exception is not handled? Explain with an example.\n",
    "When an exception is not handled, it causes the program to terminate and displays an error message indicating the type of the exception and the traceback. This is known as an unhandled exception.\n",
    "\n",
    "Here's an example:'''\n",
    "\n",
    "def divide(x, y):\n",
    "    return x/y\n",
    "\n",
    "a = 10\n",
    "b = 0\n",
    "result = divide(a, b)\n",
    "print(result)\n",
    "\n",
    "'''In this example, the divide function is called with a = 10 and b = 0, which will result in a division by zero error.\n",
    "Since there is no exception handling in the code, the program will terminate and display the following error message:'''\n",
    "Traceback (most recent call last):\n",
    "  File \"example.py\", line 6, in <module>\n",
    "    result = divide(a, b)\n",
    "  File \"example.py\", line 2, in divide\n",
    "    return x/y\n",
    "ZeroDivisionError: division by zero\n",
    "\n",
    "'''As you can see, the error message shows the type of exception (ZeroDivisionError) and the traceback,\n",
    "which indicates where the exception occurred in the code. Since the exception was not handled, \n",
    "the program terminated abruptly without executing any further code. Therefore, \n",
    "it is important to handle exceptions appropriately to avoid such situations.'''"
   ]
  },
  {
   "cell_type": "code",
   "execution_count": null,
   "id": "a84d3c79-a60f-4362-ae95-13a9a638ad02",
   "metadata": {},
   "outputs": [],
   "source": [
    "#Q3. Which Python statements are used to catch and handle exceptions? \n",
    "\n",
    "'''The try and except statements are used in Python to catch and handle exceptions.\n",
    "\n",
    "The try statement encloses a block of code in which an exception may occur. If an exception occurs in the try block, it is caught by the corresponding except block. The except block defines how to handle the exception. There can be multiple except blocks to handle different types of exceptions.\n",
    "\n",
    "Here is an example code that uses try and except blocks to handle exceptions:'''\n",
    "try:\n",
    "    x = int(input(\"Enter a number: \"))\n",
    "    y = 1 / x\n",
    "    print(\"The result is\", y)\n",
    "except ValueError:\n",
    "    print(\"Invalid input. Please enter a number.\")\n",
    "except ZeroDivisionError:\n",
    "    print(\"Cannot divide by zero.\")\n"
   ]
  },
  {
   "cell_type": "code",
   "execution_count": 3,
   "id": "27926bcd-d4fd-48a4-92fe-9c437b40f665",
   "metadata": {},
   "outputs": [
    {
     "ename": "KeyboardInterrupt",
     "evalue": "Interrupted by user",
     "output_type": "error",
     "traceback": [
      "\u001b[0;31m---------------------------------------------------------------------------\u001b[0m",
      "\u001b[0;31mKeyboardInterrupt\u001b[0m                         Traceback (most recent call last)",
      "Cell \u001b[0;32mIn[3], line 11\u001b[0m\n\u001b[1;32m      1\u001b[0m \u001b[38;5;124;03m'''Q4- Explain with an example: \u001b[39;00m\n\u001b[1;32m      2\u001b[0m \u001b[38;5;124;03m     1- try and else \u001b[39;00m\n\u001b[1;32m      3\u001b[0m \u001b[38;5;124;03m     2- finally\u001b[39;00m\n\u001b[0;32m   (...)\u001b[0m\n\u001b[1;32m      7\u001b[0m \u001b[38;5;124;03mThe try-except-else statement in Python is used to handle exceptions that might occur in a try block.\u001b[39;00m\n\u001b[1;32m      8\u001b[0m \u001b[38;5;124;03mThe else block gets executed when the code in the try block does not raise any exception. Here's an example:'''\u001b[39;00m\n\u001b[1;32m     10\u001b[0m \u001b[38;5;28;01mtry\u001b[39;00m:\n\u001b[0;32m---> 11\u001b[0m     x \u001b[38;5;241m=\u001b[39m \u001b[38;5;28mint\u001b[39m(\u001b[38;5;28;43minput\u001b[39;49m\u001b[43m(\u001b[49m\u001b[38;5;124;43m\"\u001b[39;49m\u001b[38;5;124;43mEnter a number: \u001b[39;49m\u001b[38;5;124;43m\"\u001b[39;49m\u001b[43m)\u001b[49m)\n\u001b[1;32m     12\u001b[0m     y \u001b[38;5;241m=\u001b[39m \u001b[38;5;28mint\u001b[39m(\u001b[38;5;28minput\u001b[39m(\u001b[38;5;124m\"\u001b[39m\u001b[38;5;124mEnter another number: \u001b[39m\u001b[38;5;124m\"\u001b[39m))\n\u001b[1;32m     13\u001b[0m     z \u001b[38;5;241m=\u001b[39m x \u001b[38;5;241m/\u001b[39m y\n",
      "File \u001b[0;32m/opt/conda/lib/python3.10/site-packages/ipykernel/kernelbase.py:1175\u001b[0m, in \u001b[0;36mKernel.raw_input\u001b[0;34m(self, prompt)\u001b[0m\n\u001b[1;32m   1171\u001b[0m \u001b[38;5;28;01mif\u001b[39;00m \u001b[38;5;129;01mnot\u001b[39;00m \u001b[38;5;28mself\u001b[39m\u001b[38;5;241m.\u001b[39m_allow_stdin:\n\u001b[1;32m   1172\u001b[0m     \u001b[38;5;28;01mraise\u001b[39;00m StdinNotImplementedError(\n\u001b[1;32m   1173\u001b[0m         \u001b[38;5;124m\"\u001b[39m\u001b[38;5;124mraw_input was called, but this frontend does not support input requests.\u001b[39m\u001b[38;5;124m\"\u001b[39m\n\u001b[1;32m   1174\u001b[0m     )\n\u001b[0;32m-> 1175\u001b[0m \u001b[38;5;28;01mreturn\u001b[39;00m \u001b[38;5;28;43mself\u001b[39;49m\u001b[38;5;241;43m.\u001b[39;49m\u001b[43m_input_request\u001b[49m\u001b[43m(\u001b[49m\n\u001b[1;32m   1176\u001b[0m \u001b[43m    \u001b[49m\u001b[38;5;28;43mstr\u001b[39;49m\u001b[43m(\u001b[49m\u001b[43mprompt\u001b[49m\u001b[43m)\u001b[49m\u001b[43m,\u001b[49m\n\u001b[1;32m   1177\u001b[0m \u001b[43m    \u001b[49m\u001b[38;5;28;43mself\u001b[39;49m\u001b[38;5;241;43m.\u001b[39;49m\u001b[43m_parent_ident\u001b[49m\u001b[43m[\u001b[49m\u001b[38;5;124;43m\"\u001b[39;49m\u001b[38;5;124;43mshell\u001b[39;49m\u001b[38;5;124;43m\"\u001b[39;49m\u001b[43m]\u001b[49m\u001b[43m,\u001b[49m\n\u001b[1;32m   1178\u001b[0m \u001b[43m    \u001b[49m\u001b[38;5;28;43mself\u001b[39;49m\u001b[38;5;241;43m.\u001b[39;49m\u001b[43mget_parent\u001b[49m\u001b[43m(\u001b[49m\u001b[38;5;124;43m\"\u001b[39;49m\u001b[38;5;124;43mshell\u001b[39;49m\u001b[38;5;124;43m\"\u001b[39;49m\u001b[43m)\u001b[49m\u001b[43m,\u001b[49m\n\u001b[1;32m   1179\u001b[0m \u001b[43m    \u001b[49m\u001b[43mpassword\u001b[49m\u001b[38;5;241;43m=\u001b[39;49m\u001b[38;5;28;43;01mFalse\u001b[39;49;00m\u001b[43m,\u001b[49m\n\u001b[1;32m   1180\u001b[0m \u001b[43m\u001b[49m\u001b[43m)\u001b[49m\n",
      "File \u001b[0;32m/opt/conda/lib/python3.10/site-packages/ipykernel/kernelbase.py:1217\u001b[0m, in \u001b[0;36mKernel._input_request\u001b[0;34m(self, prompt, ident, parent, password)\u001b[0m\n\u001b[1;32m   1214\u001b[0m             \u001b[38;5;28;01mbreak\u001b[39;00m\n\u001b[1;32m   1215\u001b[0m \u001b[38;5;28;01mexcept\u001b[39;00m \u001b[38;5;167;01mKeyboardInterrupt\u001b[39;00m:\n\u001b[1;32m   1216\u001b[0m     \u001b[38;5;66;03m# re-raise KeyboardInterrupt, to truncate traceback\u001b[39;00m\n\u001b[0;32m-> 1217\u001b[0m     \u001b[38;5;28;01mraise\u001b[39;00m \u001b[38;5;167;01mKeyboardInterrupt\u001b[39;00m(\u001b[38;5;124m\"\u001b[39m\u001b[38;5;124mInterrupted by user\u001b[39m\u001b[38;5;124m\"\u001b[39m) \u001b[38;5;28;01mfrom\u001b[39;00m \u001b[38;5;28mNone\u001b[39m\n\u001b[1;32m   1218\u001b[0m \u001b[38;5;28;01mexcept\u001b[39;00m \u001b[38;5;167;01mException\u001b[39;00m:\n\u001b[1;32m   1219\u001b[0m     \u001b[38;5;28mself\u001b[39m\u001b[38;5;241m.\u001b[39mlog\u001b[38;5;241m.\u001b[39mwarning(\u001b[38;5;124m\"\u001b[39m\u001b[38;5;124mInvalid Message:\u001b[39m\u001b[38;5;124m\"\u001b[39m, exc_info\u001b[38;5;241m=\u001b[39m\u001b[38;5;28;01mTrue\u001b[39;00m)\n",
      "\u001b[0;31mKeyboardInterrupt\u001b[0m: Interrupted by user"
     ]
    },
    {
     "name": "stdin",
     "output_type": "stream",
     "text": [
      "Enter a number:  78\n"
     ]
    }
   ],
   "source": [
    "'''Q4- Explain with an example: \n",
    "     1- try and else \n",
    "     2- finally\n",
    "     3- raise\n",
    "     \n",
    "try and else:\n",
    "The try-except-else statement in Python is used to handle exceptions that might occur in a try block.\n",
    "The else block gets executed when the code in the try block does not raise any exception. Here's an example:'''\n",
    "\n",
    "try:\n",
    "    x = int(input(\"Enter a number: \"))\n",
    "    y = int(input(\"Enter another number: \"))\n",
    "    z = x / y\n",
    "except ValueError:\n",
    "    print(\"Invalid input\")\n",
    "except ZeroDivisionError:\n",
    "    print(\"Cannot divide by zero\")\n",
    "else:\n",
    "    print(\"Result is:\", z)\n",
    "\n",
    "'''finally:\n",
    "The finally block in Python is used to clean up resources allocated in the try block.\n",
    "The code in the finally block gets executed whether or not an exception is raised. Here's an example:'''\n",
    "try:\n",
    "    f = open(\"file.txt\", \"r\")\n",
    "    # do something with the file\n",
    "finally:\n",
    "    f.close()\n",
    "    \n",
    "'''raise:\n",
    "The raise statement in Python is used to raise an exception explicitly. Here's an example:'''\n",
    "\n",
    "x = -1\n",
    "if x < 0:\n",
    "    raise ValueError(\"x cannot be negative\")\n"
   ]
  },
  {
   "cell_type": "code",
   "execution_count": 4,
   "id": "64e4fc19-1937-47be-9127-da5becfedf0a",
   "metadata": {},
   "outputs": [],
   "source": [
    "'''Q5. What are Custom Exceptions in python? Why do we need Custom Exceptions? Explain with an example.\n",
    "In Python, Custom Exceptions are user-defined exceptions that can be raised in a program just like the built-in exceptions. These exceptions are used to handle specific errors that are not covered by the built-in exceptions. Custom Exceptions are created by defining a new class that inherits from the built-in Exception class or any of its subclasses.\n",
    "\n",
    "We need Custom Exceptions because they allow us to create more specific and meaningful error messages for our programs. By creating our own exception types, we can provide additional information about the cause of an error and help make it easier to debug the code.\n",
    "\n",
    "Here's an example of how to create a custom exception in Python:'''\n",
    "\n",
    "class NegativeValueError(Exception):\n",
    "    def __init__(self, value):\n",
    "        self.value = value\n",
    "\n",
    "    def __str__(self):\n",
    "        return f\"Error: {self.value} is a negative value\"\n",
    "\n",
    "def calculate_square_root(value):\n",
    "    if value < 0:\n",
    "        raise NegativeValueError(value)\n",
    "    return math.sqrt(value)\n"
   ]
  },
  {
   "cell_type": "code",
   "execution_count": 5,
   "id": "70b17ab1-2085-4ca2-baca-7c337b4fa50f",
   "metadata": {},
   "outputs": [
    {
     "name": "stdout",
     "output_type": "stream",
     "text": [
      "Cannot calculate square root of a negative number\n"
     ]
    }
   ],
   "source": [
    "#Q6. Create a custom exception class. Use this class to handle an exception.\n",
    "\n",
    "# Define a custom exception class\n",
    "class NegativeNumberError(Exception):\n",
    "    def __init__(self, message):\n",
    "        self.message = message\n",
    "\n",
    "# Function that raises the custom exception\n",
    "def square_root(n):\n",
    "    if n < 0:\n",
    "        raise NegativeNumberError(\"Cannot calculate square root of a negative number\")\n",
    "    else:\n",
    "        return n ** 0.5\n",
    "\n",
    "# Handling the custom exception\n",
    "try:\n",
    "    result = square_root(-9)\n",
    "except NegativeNumberError as e:\n",
    "    print(e.message)\n",
    "else:\n",
    "    print(result)\n"
   ]
  },
  {
   "cell_type": "code",
   "execution_count": null,
   "id": "1bc6ca08-1d22-49e9-ac2e-03ccf8efcbd1",
   "metadata": {},
   "outputs": [],
   "source": []
  }
 ],
 "metadata": {
  "kernelspec": {
   "display_name": "Python 3 (ipykernel)",
   "language": "python",
   "name": "python3"
  },
  "language_info": {
   "codemirror_mode": {
    "name": "ipython",
    "version": 3
   },
   "file_extension": ".py",
   "mimetype": "text/x-python",
   "name": "python",
   "nbconvert_exporter": "python",
   "pygments_lexer": "ipython3",
   "version": "3.10.8"
  }
 },
 "nbformat": 4,
 "nbformat_minor": 5
}
