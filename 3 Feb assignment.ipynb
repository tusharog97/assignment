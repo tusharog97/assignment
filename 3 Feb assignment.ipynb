{
 "cells": [
  {
   "cell_type": "code",
   "execution_count": 1,
   "id": "c2e5ce06-da4c-4a6c-92a5-6a4f5468ddf6",
   "metadata": {},
   "outputs": [
    {
     "name": "stdout",
     "output_type": "stream",
     "text": [
      "[1, 3, 5, 7, 9, 11, 13, 15, 17, 19, 21, 23, 25]\n"
     ]
    }
   ],
   "source": [
    "'''Q1. Which keyword is used to create a function? Create a function to return a list of odd numbers in the\n",
    "range of 1 to 25.'''\n",
    "#The \"def\" keyword is used to create a function. Here's a function to return a list of odd numbers in the range of 1 to 25:\n",
    "def get_odd_numbers():\n",
    "    odd_numbers = []\n",
    "    for i in range(1, 26):\n",
    "        if i % 2 != 0:\n",
    "            odd_numbers.append(i)\n",
    "    return odd_numbers\n",
    "\n",
    "print(get_odd_numbers())\n"
   ]
  },
  {
   "cell_type": "code",
   "execution_count": 2,
   "id": "71f31edd-5bd7-42ff-b186-268255f9e53e",
   "metadata": {},
   "outputs": [
    {
     "name": "stdout",
     "output_type": "stream",
     "text": [
      "Non-keyword arguments: (1, 2, 3)\n",
      "Keyword arguments: {'name': 'John', 'age': 32}\n"
     ]
    }
   ],
   "source": [
    "#Q2. Why *args and **kwargs is used in some functions? Create a function each for *args and **kwargs to demonstrate their use.\n",
    "\n",
    "\"\"\"The *args and **kwargs syntax in Python is used to pass a variable number of arguments to a function.\n",
    "\n",
    "*args allows a function to accept an arbitrary number of non-keyword arguments. These arguments are passed to the function as a tuple.\n",
    "\n",
    "**kwargs allows a function to accept an arbitrary number of keyword arguments. These arguments are passed to the function as a dictionary.\n",
    "\n",
    "Here's an example of a function that takes both *args and **kwargs:\"\"\"\n",
    "\n",
    "def my_function(*args, **kwargs):\n",
    "    print(\"Non-keyword arguments:\", args)\n",
    "    print(\"Keyword arguments:\", kwargs)\n",
    "\n",
    "my_function(1, 2, 3, name=\"John\", age=32)\n"
   ]
  },
  {
   "cell_type": "code",
   "execution_count": null,
   "id": "018b6e33-ce2b-4e27-adc7-9719e782ac7b",
   "metadata": {},
   "outputs": [],
   "source": [
    "\"\"\"In this example, the function my_function takes any number of non-keyword arguments and keyword arguments. \n",
    "The non-keyword arguments are passed to args as a tuple, and the keyword arguments are passed to kwargs as a dictionary.\"\"\""
   ]
  },
  {
   "cell_type": "code",
   "execution_count": 1,
   "id": "ef2c520a-39c0-43e8-a659-b5feffd31c84",
   "metadata": {},
   "outputs": [
    {
     "name": "stdout",
     "output_type": "stream",
     "text": [
      "2\n",
      "4\n",
      "6\n",
      "8\n",
      "10\n"
     ]
    }
   ],
   "source": [
    "'''Q3 What is an iterator in python? Name the method used to initialise the iterator object and the method\n",
    "used for iteration. Use these methods to print the first five elements of the given list [2, 4, 6, 8, 10, 12, 14,\n",
    "16, 18, 20].'''\n",
    "\n",
    "'''Ans.-\n",
    "\n",
    "An iterator in Python is an object that can be iterated (looped) upon. It implements the iterator protocol, which consists of two methods:\n",
    "\n",
    "__iter__ method: This method is used to initialize the iterator object. It returns the iterator object itself.\n",
    "\n",
    "__next__ method: This method returns the next value in the iteration. If there are no more items to return, it raises StopIteration exception.\n",
    "\n",
    "Here's an example to demonstrate the use of these methods:'''\n",
    "\n",
    "list = [2, 4, 6, 8, 10, 12, 14, 16, 18, 20]\n",
    "\n",
    "# Initialize the iterator object\n",
    "my_iterator = iter(list)\n",
    "\n",
    "# Iterate the first 5 elements\n",
    "for i in range(5):\n",
    "  print(next(my_iterator))\n"
   ]
  },
  {
   "cell_type": "code",
   "execution_count": 2,
   "id": "5ff2f19c-077f-4925-842c-f9303ce28fda",
   "metadata": {},
   "outputs": [
    {
     "name": "stdout",
     "output_type": "stream",
     "text": [
      "0\n",
      "2\n",
      "4\n"
     ]
    }
   ],
   "source": [
    "'''Q4. What is a generator function in python? Why yield keyword is used? Give an example of a generator\n",
    "function.\n",
    "\n",
    "Ans. A generator function in python is a special type of function that allows the creation of a generator iterator. \n",
    "The generator iterator is an object that generates values one at a time on the fly, only when they are needed. \n",
    "The yield keyword is used to return a value from the generator function, \n",
    "but instead of stopping the function, it \"pauses\" the function and saves its state for the next call.'''\n",
    "\n",
    "def even_numbers(limit):\n",
    "    i = 0\n",
    "    while i <= limit:\n",
    "        yield i\n",
    "        i += 2\n",
    "\n",
    "gen = even_numbers(10)\n",
    "print(next(gen)) # 0\n",
    "print(next(gen)) # 2\n",
    "print(next(gen)) # 4\n"
   ]
  },
  {
   "cell_type": "code",
   "execution_count": 3,
   "id": "6fb8ee6c-3109-4a16-9942-7cfee6c2d8e0",
   "metadata": {},
   "outputs": [
    {
     "name": "stdout",
     "output_type": "stream",
     "text": [
      "2\n",
      "3\n",
      "5\n",
      "7\n",
      "11\n",
      "13\n",
      "17\n",
      "19\n",
      "23\n",
      "29\n",
      "31\n",
      "37\n",
      "41\n",
      "43\n",
      "47\n",
      "53\n",
      "59\n",
      "61\n",
      "67\n",
      "71\n"
     ]
    }
   ],
   "source": [
    "'''Q5. Create a generator function for prime numbers less than 1000. Use the next() method to print the\n",
    "first 20 prime numbers.'''\n",
    "\n",
    "def prime_numbers(limit):\n",
    "    for num in range(2, limit):\n",
    "        for i in range(2, num):\n",
    "            if num % i == 0:\n",
    "                break\n",
    "        else:\n",
    "            yield num\n",
    "\n",
    "gen = prime_numbers(1000)\n",
    "count = 0\n",
    "\n",
    "while count < 20:\n",
    "    print(next(gen))\n",
    "    count += 1\n"
   ]
  },
  {
   "cell_type": "code",
   "execution_count": 4,
   "id": "a8d2f28e-6da6-4917-9419-5700cd1e92de",
   "metadata": {},
   "outputs": [
    {
     "name": "stdout",
     "output_type": "stream",
     "text": [
      "0\n",
      "1\n",
      "1\n",
      "2\n",
      "3\n",
      "5\n",
      "8\n",
      "13\n",
      "21\n",
      "34\n"
     ]
    }
   ],
   "source": [
    "#Q6. Write a python program to print the first 10 Fibonacci numbers using a while loop.\n",
    "\n",
    "def fibonacci_series(n):\n",
    "    a = 0\n",
    "    b = 1\n",
    "    counter = 0\n",
    "    while counter < n:\n",
    "        print(a)\n",
    "        c = a + b\n",
    "        a = b\n",
    "        b = c\n",
    "        counter += 1\n",
    "\n",
    "fibonacci_series(10)\n"
   ]
  },
  {
   "cell_type": "code",
   "execution_count": 5,
   "id": "c13ae377-892a-4857-86ee-29155a9c80b0",
   "metadata": {},
   "outputs": [
    {
     "name": "stdout",
     "output_type": "stream",
     "text": [
      "['p', 'w', 's', 'k', 'i', 'l', 'l', 's']\n"
     ]
    }
   ],
   "source": [
    "'''Q7. Write a List Comprehension to iterate through the given string: ‘pwskills’.\n",
    "Expected output: ['p', 'w', 's', 'k', 'i', 'l', 'l', 's']'''\n",
    "\n",
    "string = \"pwskills\"\n",
    "characters = [char for char in string]\n",
    "print(characters)\n"
   ]
  },
  {
   "cell_type": "code",
   "execution_count": 7,
   "id": "1b268156-97ab-4690-bdd7-ac6558121df7",
   "metadata": {},
   "outputs": [
    {
     "name": "stdin",
     "output_type": "stream",
     "text": [
      "Enter a number:  7123\n"
     ]
    },
    {
     "name": "stdout",
     "output_type": "stream",
     "text": [
      "7123 is not a palindrome.\n"
     ]
    }
   ],
   "source": [
    "#Q8. Write a python program to check whether a given number is Palindrome or not using a while loop.\n",
    "def is_palindrome(num):\n",
    "    temp = num\n",
    "    rev = 0\n",
    "    while num > 0:\n",
    "        dig = num % 10\n",
    "        rev = rev * 10 + dig\n",
    "        num = num // 10\n",
    "    return temp == rev\n",
    "\n",
    "num = int(input(\"Enter a number: \"))\n",
    "if is_palindrome(num):\n",
    "    print(num, \"is a palindrome.\")\n",
    "else:\n",
    "    print(num, \"is not a palindrome.\")\n"
   ]
  },
  {
   "cell_type": "code",
   "execution_count": 8,
   "id": "482827b5-bcc3-47a4-b577-94d67caebe9d",
   "metadata": {},
   "outputs": [
    {
     "name": "stdout",
     "output_type": "stream",
     "text": [
      "[1, 3, 5, 7, 9, 11, 13, 15, 17, 19, 21, 23, 25, 27, 29, 31, 33, 35, 37, 39, 41, 43, 45, 47, 49, 51, 53, 55, 57, 59, 61, 63, 65, 67, 69, 71, 73, 75, 77, 79, 81, 83, 85, 87, 89, 91, 93, 95, 97, 99]\n"
     ]
    }
   ],
   "source": [
    "#Q9. Write a code to print odd numbers from 1 to 100 using list comprehension.\n",
    "\n",
    "odd_numbers = [x for x in range(1,101) if x%2!=0]\n",
    "print(odd_numbers)\n"
   ]
  },
  {
   "cell_type": "code",
   "execution_count": null,
   "id": "18c27a4f-bbe4-4edf-a51b-fcfc8b7891e3",
   "metadata": {},
   "outputs": [],
   "source": []
  }
 ],
 "metadata": {
  "kernelspec": {
   "display_name": "Python 3 (ipykernel)",
   "language": "python",
   "name": "python3"
  },
  "language_info": {
   "codemirror_mode": {
    "name": "ipython",
    "version": 3
   },
   "file_extension": ".py",
   "mimetype": "text/x-python",
   "name": "python",
   "nbconvert_exporter": "python",
   "pygments_lexer": "ipython3",
   "version": "3.10.8"
  }
 },
 "nbformat": 4,
 "nbformat_minor": 5
}
